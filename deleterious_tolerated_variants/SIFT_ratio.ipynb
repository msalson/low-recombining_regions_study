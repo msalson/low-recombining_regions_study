{
 "cells": [
  {
   "cell_type": "markdown",
   "id": "bfa08a7c-a620-42f1-88d0-c3fb7934cdc8",
   "metadata": {},
   "source": [
    "### This jupyter-book aims at calculating the ratio of deleterious to tolerated variants"
   ]
  },
  {
   "cell_type": "markdown",
   "id": "9851ef15-11c9-4ea3-8d42-3ec623e72ee2",
   "metadata": {},
   "source": [
    "##### The VCF annotated with SIFT is accessible here: datasud\n",
    "##### The script allows to obtain the number of deleterious and tolerated variants across the genome and across a given region of the genome."
   ]
  },
  {
   "cell_type": "code",
   "execution_count": 19,
   "id": "66530276-9af5-4bd1-b067-3bf1f5713a78",
   "metadata": {},
   "outputs": [],
   "source": [
    "sift_file=\"pearl_millet_SIFTannotations.csv\""
   ]
  },
  {
   "cell_type": "markdown",
   "id": "a539b084-782d-4a7e-b7cf-abd8b232a98d",
   "metadata": {},
   "source": [
    "#### Calculation of the ratio of deleterious to tolerated mutations across the whole genome"
   ]
  },
  {
   "cell_type": "code",
   "execution_count": 20,
   "id": "39fa36cb-a409-4399-a609-727d0488df99",
   "metadata": {},
   "outputs": [
    {
     "name": "stdout",
     "output_type": "stream",
     "text": [
      "Deleterious: 1196\n",
      "TOLERATED: 10457\n",
      "DELETERIOUS WARNING: 696\n",
      "NA: 1560\n",
      "ratio: 0.18093143348952856\n"
     ]
    }
   ],
   "source": [
    "nb_DELETERIOUS_all=[]\n",
    "nb_DELETERIOUS_W_all=[]\n",
    "nb_TOLERATED_all=[]\n",
    "nb_NA_all=[]\n",
    "\n",
    "count=0\n",
    "\n",
    "with open(sift_file, \"r\") as sift:\n",
    "    for line in sift:\n",
    "        e=line.split(\",\")\n",
    "        CHROM=e[0]\n",
    "        POS=e[1]\n",
    "        SIFT_SCORE=e[12]\n",
    "        SIFT_PREDICTION=e[16][:-1]\n",
    "        if str(SIFT_PREDICTION) == \"DELETERIOUS\":\n",
    "            nb_DELETERIOUS_all.append(POS)\n",
    "        if str(SIFT_PREDICTION) == \"DELETERIOUS (*WARNING! Low confidence)\":\n",
    "            nb_DELETERIOUS_W_all.append(POS)\n",
    "        if str(SIFT_PREDICTION) == \"NA\":\n",
    "            nb_NA_all.append(POS)\n",
    "        if str(SIFT_PREDICTION) == \"TOLERATED\":\n",
    "            nb_TOLERATED_all.append(POS)\n",
    "\n",
    "print(\"Deleterious: \"+str(len(nb_DELETERIOUS_all)))\n",
    "print(\"TOLERATED: \"+str(len(nb_TOLERATED_all)))\n",
    "print(\"DELETERIOUS WARNING: \"+str(len(nb_DELETERIOUS_W_all))) \n",
    "print(\"NA: \"+str(len(nb_NA_all)))\n",
    "ratio=(float(len(nb_DELETERIOUS_all))+float(len(nb_DELETERIOUS_W_all)))/float(len(nb_TOLERATED_all))\n",
    "print(\"ratio: \"+str(ratio))"
   ]
  },
  {
   "cell_type": "markdown",
   "id": "c9d19120-705c-4038-9685-de3bb0ec3fb6",
   "metadata": {},
   "source": [
    "#### Calculation of the ratio of deleterious to tolerated mutations across a given region"
   ]
  },
  {
   "cell_type": "code",
   "execution_count": 21,
   "id": "509a11b5-c9ec-47f0-806d-655e1ffd9648",
   "metadata": {},
   "outputs": [],
   "source": [
    "chromosome=\"chr3\"\n",
    "start_position=101238580\n",
    "end_position=188834466"
   ]
  },
  {
   "cell_type": "code",
   "execution_count": 22,
   "id": "94aef13a-608b-492a-b5e8-1f4968fb9b25",
   "metadata": {},
   "outputs": [
    {
     "name": "stdout",
     "output_type": "stream",
     "text": [
      "chr3\n",
      "DELETERIOUS: 6\n",
      "TOLERATED: 75\n",
      "DELETERIOUS WARNING: 13\n",
      "NA: 47\n",
      "ratio: 0.25333333333333335\n"
     ]
    }
   ],
   "source": [
    "nb_NA=[]\n",
    "nb_TOLERATED=[]\n",
    "nb_DELETERIOUS=[]\n",
    "nb_DELETERIOUS_W=[]\n",
    "\n",
    "with open(sift_file, \"r\") as sift:\n",
    "    for line in sift:\n",
    "        e=line.split(\",\")\n",
    "        CHROM=e[0]\n",
    "        POS=e[1]\n",
    "        SIFT_SCORE=e[12]\n",
    "        SIFT_PREDICTION=e[16][:-1]\n",
    "        if str(CHROM) == \"chr3\" and int(POS) > int(start_position):\n",
    "            if int(POS) < int(end_position): \n",
    "                if str(SIFT_PREDICTION) == \"NA\":\n",
    "                    nb_NA.append(POS)\n",
    "                if str(SIFT_PREDICTION) == \"TOLERATED\":\n",
    "                    nb_TOLERATED.append(POS)\n",
    "                if str(SIFT_PREDICTION) == \"DELETERIOUS\":\n",
    "                    nb_DELETERIOUS.append(POS)\n",
    "                if str(SIFT_PREDICTION) == \"DELETERIOUS (*WARNING! Low confidence)\":\n",
    "                    nb_DELETERIOUS_W.append(POS)\n",
    "\n",
    "print(chromosome)\n",
    "print(\"DELETERIOUS: \"+str(len(nb_DELETERIOUS)))\n",
    "print(\"TOLERATED: \"+str(len(nb_TOLERATED)))\n",
    "print(\"DELETERIOUS WARNING: \"+str(len(nb_DELETERIOUS_W))) \n",
    "print(\"NA: \"+str(len(nb_NA)))\n",
    "ratio=(float(len(nb_DELETERIOUS))+float(len(nb_DELETERIOUS_W)))/float(len(nb_TOLERATED))\n",
    "print(\"ratio: \"+str(ratio))"
   ]
  }
 ],
 "metadata": {
  "kernelspec": {
   "display_name": "Python 3 (ipykernel)",
   "language": "python",
   "name": "python3"
  },
  "language_info": {
   "codemirror_mode": {
    "name": "ipython",
    "version": 3
   },
   "file_extension": ".py",
   "mimetype": "text/x-python",
   "name": "python",
   "nbconvert_exporter": "python",
   "pygments_lexer": "ipython3",
   "version": "3.8.10"
  }
 },
 "nbformat": 4,
 "nbformat_minor": 5
}
