{
 "cells": [
  {
   "cell_type": "markdown",
   "id": "86775793-c3db-4c0f-b1ce-737e751b1942",
   "metadata": {},
   "source": [
    "## Jupyter-Notebook to count and list the genes found within the scaffolds covering the candidate region of chromosome 3\n",
    "\n",
    "#### The gff file of the scaffolds of Autof-Pod103sr8 can be found here XXX(ENA or datasud)"
   ]
  },
  {
   "cell_type": "code",
   "execution_count": 13,
   "id": "f94a86ac-1431-45b5-92cc-d1608b4c99e9",
   "metadata": {},
   "outputs": [
    {
     "name": "stdout",
     "output_type": "stream",
     "text": [
      "283\n"
     ]
    }
   ],
   "source": [
    "gff=\"scaffolds_103sr8_copies_sc05.liftoff.gff\"\n",
    "\n",
    "nb_gene=0\n",
    "\n",
    "super_scaffold=\"Super-Scaffold_100020\"\n",
    "start=1\n",
    "end=28000000\n",
    "\n",
    "with open(\"Autof-Pod103sr8_candidate_region_chr3_\"+str(super_scaffold)+\"_list_of_genes.txt\",\"w\") as fR:\n",
    "    fR.write(\"chromosome\\tstart\\tend\\tID_genes\\n\")\n",
    "    with open(gff, \"r\") as file:\n",
    "        for line in file:\n",
    "            if str(line[0][0]) != \"#\":\n",
    "                e=line.split(\"\\t\")\n",
    "                sequence=str(e[0])\n",
    "                feature=str(e[2])\n",
    "                pos_d=int(e[3])\n",
    "                pos_e=int(e[4])\n",
    "                long_info=e[8]\n",
    "                i=long_info.split(\"_\")\n",
    "                gene_id=\"Pgl_\"+str(i[1])+\"_\"+str(i[2])\n",
    "                #print(sequences, feature, pos_d, pos_e)\n",
    "                if str(sequence) == str(super_scaffold) and str(feature) ==\"gene\" :\n",
    "                    if int(pos_d) >= int(start) :\n",
    "                        if int(pos_d) <= int(end):\n",
    "                            nb_gene+=1\n",
    "                            fR.write(str(super_scaffold)+\"\\t\"+str(pos_d)+\"\\t\"+str(pos_e)+\"\\t\"+str(gene_id)+\"\\n\")\n",
    "\n",
    "print(nb_gene)\n"
   ]
  },
  {
   "cell_type": "code",
   "execution_count": null,
   "id": "4388d895-79f1-4065-8af6-159fb07b378b",
   "metadata": {},
   "outputs": [],
   "source": [
    "#with copies, haplotype 1:\n",
    "#scaffold 20 [1-28 Mb, reverse]: 283\n",
    "#scaffold 24 [all]: 200\n",
    "#scaffold 15 [1-15 Mb]: 125 \n",
    "#=> 608\n",
    "\n",
    "#with copies, haplotype 2:\n",
    "#scaffold 3 [101-143 Mb]: 341\n",
    "#scaffold 1 [1-47 Mb]: 379\n",
    "#=> 720"
   ]
  }
 ],
 "metadata": {
  "kernelspec": {
   "display_name": "Python 3 (ipykernel)",
   "language": "python",
   "name": "python3"
  },
  "language_info": {
   "codemirror_mode": {
    "name": "ipython",
    "version": 3
   },
   "file_extension": ".py",
   "mimetype": "text/x-python",
   "name": "python",
   "nbconvert_exporter": "python",
   "pygments_lexer": "ipython3",
   "version": "3.8.10"
  }
 },
 "nbformat": 4,
 "nbformat_minor": 5
}
