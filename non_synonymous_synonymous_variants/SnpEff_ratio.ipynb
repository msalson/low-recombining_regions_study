{
 "cells": [
  {
   "cell_type": "markdown",
   "id": "bfa08a7c-a620-42f1-88d0-c3fb7934cdc8",
   "metadata": {},
   "source": [
    "### This jupyter-book aims at calculating the ratio of non synonymous to synonymous variants"
   ]
  },
  {
   "cell_type": "markdown",
   "id": "9851ef15-11c9-4ea3-8d42-3ec623e72ee2",
   "metadata": {},
   "source": [
    "#### A VCF annotated with SnpEff (http://pcingola.github.io/SnpEff/) has to be used.\n",
    "#### The script allows to obtain the number of non synonymous and of synonymous variants across the genome.\n",
    "#### The same calculation can be done for a given region of the genome."
   ]
  },
  {
   "cell_type": "code",
   "execution_count": 1,
   "id": "66530276-9af5-4bd1-b067-3bf1f5713a78",
   "metadata": {},
   "outputs": [],
   "source": [
    "annotated_vcf=\"spatial_dataset_126_samples.vcf\""
   ]
  },
  {
   "cell_type": "markdown",
   "id": "a539b084-782d-4a7e-b7cf-abd8b232a98d",
   "metadata": {},
   "source": [
    "### Calculation of the ratio of non synonymous to synonymous variants across the whole genome"
   ]
  },
  {
   "cell_type": "code",
   "execution_count": 11,
   "id": "39fa36cb-a409-4399-a609-727d0488df99",
   "metadata": {},
   "outputs": [
    {
     "name": "stdout",
     "output_type": "stream",
     "text": [
      "8061\n",
      "6690\n",
      "ratio:  1.2049327354260089\n"
     ]
    }
   ],
   "source": [
    "list_missense_all=[]\n",
    "list_synonym_all=[]\n",
    "\n",
    "with open(annotated_vcf, \"r\") as file:\n",
    "     for line in file:\n",
    "        e=line.split(\"\\t\")\n",
    "        if str(e[0][0]) != \"#\":\n",
    "            chromosome=e[0]\n",
    "            position=e[1]\n",
    "            infos=e[7]\n",
    "            info=infos.split(\"|\")\n",
    "            effect=info[1]\n",
    "            if str(effect) == \"missense_variant\":\n",
    "                list_missense_all.append(position)\n",
    "            if str(effect) == \"synonymous_variant\":\n",
    "                list_synonym_all.append(position)\n",
    "            \n",
    "print(len(list_missense_all))\n",
    "print(len(list_synonym_all))\n",
    "print(\"ratio: \", float(len(list_missense_all)/len(list_synonym_all)))"
   ]
  },
  {
   "cell_type": "markdown",
   "id": "c9d19120-705c-4038-9685-de3bb0ec3fb6",
   "metadata": {},
   "source": [
    "### Calculation the ratio of non synonymous to synonymous variants across a given region"
   ]
  },
  {
   "cell_type": "code",
   "execution_count": 12,
   "id": "509a11b5-c9ec-47f0-806d-655e1ffd9648",
   "metadata": {},
   "outputs": [],
   "source": [
    "chromosome=\"chr3\"\n",
    "start_position=101238580\n",
    "end_position=188834466"
   ]
  },
  {
   "cell_type": "code",
   "execution_count": 13,
   "id": "4d5425f1-1cb0-42e0-9812-3cd2b9234d52",
   "metadata": {},
   "outputs": [
    {
     "name": "stdout",
     "output_type": "stream",
     "text": [
      "101\n",
      "48\n",
      "ratio:  2.1041666666666665\n"
     ]
    }
   ],
   "source": [
    "list_missense_chr=[]\n",
    "list_synonym_chr=[]\n",
    "\n",
    "with open(annotated_vcf, \"r\") as file:\n",
    "     for line in file:\n",
    "        e=line.split(\"\\t\")\n",
    "        if str(e[0][0]) != \"#\":\n",
    "            chromosome_vcf=e[0]\n",
    "            position=e[1]\n",
    "            infos=e[7]\n",
    "            info=infos.split(\"|\")\n",
    "            effect=info[1]\n",
    "            if str(chromosome) == str(chromosome_vcf) and int(position) >= int(start_position):\n",
    "                if int(position) <= int(end_position):\n",
    "                    if str(effect) == \"missense_variant\":\n",
    "                        list_missense_chr.append(position)\n",
    "                    if str(effect) == \"synonymous_variant\":\n",
    "                        list_synonym_chr.append(position)\n",
    "\n",
    "                                    \n",
    "print(len(list_missense_chr))\n",
    "print(len(list_synonym_chr))\n",
    "print(\"ratio: \", float(len(list_missense_chr)/len(list_synonym_chr)))"
   ]
  }
 ],
 "metadata": {
  "kernelspec": {
   "display_name": "Python 3 (ipykernel)",
   "language": "python",
   "name": "python3"
  },
  "language_info": {
   "codemirror_mode": {
    "name": "ipython",
    "version": 3
   },
   "file_extension": ".py",
   "mimetype": "text/x-python",
   "name": "python",
   "nbconvert_exporter": "python",
   "pygments_lexer": "ipython3",
   "version": "3.8.10"
  }
 },
 "nbformat": 4,
 "nbformat_minor": 5
}
