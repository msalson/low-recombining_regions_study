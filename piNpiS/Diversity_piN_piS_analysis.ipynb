{
 "cells": [
  {
   "cell_type": "markdown",
   "id": "bc897353-fd49-4409-ba16-2aef5fb467c7",
   "metadata": {},
   "source": [
    "# Jupyter Notebook to estimate πN and πS\n",
    "\n",
    "#### To estimate the diversity at synonymous (πS) and non-synonymous (πN) sites, the script dNdSpiNpiS (version 3, available at https://kimura.univ-montp2.fr/PopPhyl/index.php?section=tools) was used\n",
    "\n",
    "#### The script requires a fasta file with the two diploid coding sequences of each individual containing SNPs\n",
    "\n",
    "#### With header of sequences as: \n",
    "\n",
    "#### >CDS_1|Pearl_millet|Indiv1|Allele_1\n",
    "#### >CDS_1|Pearl_millet|Indiv1|Allele_2"
   ]
  },
  {
   "cell_type": "markdown",
   "id": "24b3e655-c208-4155-9f9f-39bd9fa0d0ce",
   "metadata": {},
   "source": [
    "## 1. Obtain chromosome of each individual with the alternative alleles in accordance with a VCF file"
   ]
  },
  {
   "cell_type": "raw",
   "id": "a3d269a6-b00e-4b39-a721-1552bbabd8fd",
   "metadata": {},
   "source": [
    "module load bcftools/1.9\n",
    "module load gatk4/4.2.3.0\n",
    "\n",
    "bcftools query -l vcf_pearl_millet_76018_filtered_SNPs.vcf  | while read S\n",
    "do\n",
    "\n",
    "gatk FastaAlternateReferenceMaker -R pearl_millet_23DB_ONT_assembly.fasta -O \"${S}.fasta\" --use-iupac-sample \"${S}\" -V vcf_pearl_millet_76018_filtered_SNPs.vcf\n",
    "done"
   ]
  },
  {
   "cell_type": "markdown",
   "id": "33d29324-3123-4bf7-aec8-d5d2e9c3c7ab",
   "metadata": {},
   "source": [
    "## 2. Extract CDS from the ALT chromosome using a GFF file"
   ]
  },
  {
   "cell_type": "code",
   "execution_count": null,
   "id": "2c230f0e-5fc0-468d-803a-b984b3795321",
   "metadata": {},
   "outputs": [],
   "source": [
    "from Bio import SeqIO\n",
    "\n",
    "file_ALT = str(individual)+\"_ALL_CHR_FULL_IUPAC.fasta\"\n",
    "\n",
    "new_file_ALT = str(individual)+\"_ALL_CHR_FULL_IUPAC_HEADER.fasta\"\n",
    "\n",
    "with open(new_file_ALT, \"w\") as new_fasta:\n",
    "    for record in SeqIO.parse(file_ALT, \"fasta\"):\n",
    "        header=str(\">chr\"+str(record.id)+\"\\n\")\n",
    "        new_fasta.write(header)\n",
    "        seq=str(record.seq)\n",
    "        new_fasta.write(seq+\"\\n\")\n",
    "\n",
    "dico_chr_ALT={}\n",
    "\n",
    "for record in SeqIO.parse(new_file_ALT, \"fasta\"):\n",
    "    if str(record.id) not in dico_chr_ALT:\n",
    "        dico_chr_ALT[str(record.id)]=record.seq\n",
    "\n",
    "fasta_file_REVERSE=str(individual)+\"_ALL_CHR_FULL_IUPAC_CDS_reverse.fasta\"\n",
    "fasta_file_FORWARD=str(individual)+\"_ALL_CHR_FULL_IUPAC_CDS_forward.fasta\"\n",
    "\n",
    "GFF_CDS=\"pearl_millet_23DB_ONT_assembly_annotation_transfer_POLISH_chr_scaff_GT_CDS_with_SNPS.gff\"\n",
    "\n",
    "count=1\n",
    "count_reverse=0\n",
    "list_CDS=[]\n",
    "with open(fasta_file_REVERSE, \"w\") as fasta_to_generate_rev:\n",
    "    with open(fasta_file_FORWARD, \"w\") as fasta_to_generate_for:\n",
    "        with open(GFF_CDS, 'r') as gff:\n",
    "            for line in gff:\n",
    "                e=line.split(\"\\t\")\n",
    "                chromosome=e[0]\n",
    "                forward_reverse=e[6]\n",
    "                if str(chromosome) in dico_chr_ALT: \n",
    "                    start=e[3] \n",
    "                    end=e[4] \n",
    "                    phase=e[7]\n",
    "                    sequence=dico_chr_ALT[str(chromosome)][int(start)-1:int(end)]  \n",
    "                    if str(forward_reverse) == \"-\":    \n",
    "                        if str(phase) == \"0\" : \n",
    "                            sequence=sequence.reverse_complement()\n",
    "                            fasta_to_generate_rev.write(\">CDS\"+str(count)+\"_\"+str(chromosome)+\"_\"+str(start)+\"_\"+str(end)+\"\\n\"+str(sequence)+\"\\n\")\n",
    "                        elif str(phase) == \"1\" :\n",
    "                            sequence=sequence.reverse_complement()\n",
    "                            sequence=sequence[1:]\n",
    "                            fasta_to_generate_rev.write(\">CDS\"+str(count)+\"_\"+str(chromosome)+\"_\"+str(start)+\"_\"+str(end)+\"\\n\"+str(sequence)+\"\\n\")\n",
    "                        elif str(phase) == \"2\" : \n",
    "                            sequence=sequence.reverse_complement()\n",
    "                            sequence=sequence[2:]\n",
    "                            fasta_to_generate_rev.write(\">CDS\"+str(count)+\"_\"+str(chromosome)+\"_\"+str(start)+\"_\"+str(end)+\"\\n\"+str(sequence)+\"\\n\")\n",
    "                                                          \n",
    "                    if str(forward_reverse) == \"+\":   \n",
    "                        if str(phase) == \"0\" : \n",
    "                            fasta_to_generate_for.write(\">CDS\"+str(count)+\"_\"+str(chromosome)+\"_\"+str(start)+\"_\"+str(end)+\"\\n\"+str(sequence)+\"\\n\")\n",
    "                        elif str(phase) == \"1\" : \n",
    "                            sequence=sequence[1:]\n",
    "                            fasta_to_generate_for.write(\">CDS\"+str(count)+\"_\"+str(chromosome)+\"_\"+str(start)+\"_\"+str(end)+\"\\n\"+str(sequence)+\"\\n\")\n",
    "                        elif str(phase) == \"2\" : \n",
    "                            sequence=sequence[2:]                                \n",
    "                            fasta_to_generate_for.write(\">CDS\"+str(count)+\"_\"+str(chromosome)+\"_\"+str(start)+\"_\"+str(end)+\"\\n\"+str(sequence)+\"\\n\")\n",
    "                                                                         \n",
    "                    count+=1"
   ]
  },
  {
   "cell_type": "markdown",
   "id": "bcdc549e-6afc-4e21-a6e0-8f2c46782dcf",
   "metadata": {},
   "source": [
    "## 3. Obtain diploid sequences for each individual and each CDS"
   ]
  },
  {
   "cell_type": "code",
   "execution_count": null,
   "id": "66b69d31-e3e6-4ddd-b7f9-6a8e38f36bf3",
   "metadata": {},
   "outputs": [],
   "source": [
    "# Forward CDS:\n",
    "\n",
    "file_to_duplicate_seq_for=str(individual)+\"_ALL_CHR_FULL_IUPAC_CDS_forward.fasta\"\n",
    "file_duplicated_forward=str(individual)+\"_ALL_CHR_FULL_IUPAC_CDS_forward_DIPLOID.fasta\"\n",
    "\n",
    "no_change=['A','T','G','C']\n",
    "\n",
    "count=1\n",
    "with open(file_duplicated_forward, \"w\") as fR:\n",
    "    for record in SeqIO.parse(str(file_to_duplicate_seq_for), \"fasta\"):\n",
    "        sequence_1=\"\"\n",
    "        sequence_2=\"\"\n",
    "        id_seq=str(record.id) #>CDS85_chr1_3621451_3621710\n",
    "        id_seq_e=id_seq.split(\"_\")\n",
    "        header=str(id_seq_e[1])+\"_\"+str(id_seq_e[2])+\"_\"+str(id_seq_e[3])\n",
    "        SEQ=record.seq\n",
    "        for car in SEQ:\n",
    "            if str(car) == \".\":\n",
    "                sequence_1=str(sequence_1)+\"N\"\n",
    "                sequence_2=str(sequence_2)+\"N\"\n",
    "            if str(car) in no_change:\n",
    "                sequence_1=str(sequence_1)+str(car)\n",
    "                sequence_2=str(sequence_2)+str(car)\n",
    "            if str(car) == \"W\":\n",
    "                sequence_1=str(sequence_1)+\"A\"\n",
    "                sequence_2=str(sequence_2)+\"T\"\n",
    "            if str(car) == \"S\":\n",
    "                sequence_1=str(sequence_1)+\"C\"\n",
    "                sequence_2=str(sequence_2)+\"G\"\n",
    "            if str(car) == \"M\":\n",
    "                sequence_1=str(sequence_1)+\"A\"\n",
    "                sequence_2=str(sequence_2)+\"C\"\n",
    "            if str(car) == \"K\":\n",
    "                sequence_1=str(sequence_1)+\"G\"\n",
    "                sequence_2=str(sequence_2)+\"T\"\n",
    "            if str(car) == \"R\":\n",
    "                sequence_1=str(sequence_1)+\"A\"\n",
    "                sequence_2=str(sequence_2)+\"G\"\n",
    "            if str(car) == \"Y\":\n",
    "                sequence_1=str(sequence_1)+\"C\"\n",
    "                sequence_2=str(sequence_2)+\"T\"\n",
    "        if  len(sequence_1) == len(sequence_2) and len(sequence_1) == len(SEQ): #check that sequences have the same length, as expected\n",
    "            #>CDS_1|Pearl_millet|So-21-28371-02|Allele_1\n",
    "            header_1=\">CDS_\"+str(count)+\"_\"+str(header)+\"|Pearl_millet|\"+str(individual)+\"|Allele_1\"\n",
    "            fR.write(str(header_1)+\"\\n\")\n",
    "            fR.write(str(sequence_1)+\"\\n\")\n",
    "            header_2=\">CDS_\"+str(count)+\"_\"+str(header)+\"|Pearl_millet|\"+str(individual)+\"|Allele_2\"\n",
    "            fR.write(str(header_2)+\"\\n\")\n",
    "            fR.write((sequence_2)+\"\\n\")\n",
    "        else:\n",
    "            print(header)\n",
    "        count+=1\n",
    "\n",
    "# Reverse CDS:\n",
    "\n",
    "file_to_duplicate_seq_rev=str(individual)+\"_ALL_CHR_FULL_IUPAC_CDS_MANUAL_reverse.fasta\"\n",
    "file_duplicated_reverse=str(individual)+\"_ALL_CHR_FULL_IUPAC_CDS_MANUAL_reverse_DIPLOID.fasta\"\n",
    "\n",
    "count=1\n",
    "with open(file_duplicated_reverse, \"w\") as fR:\n",
    "    for record in SeqIO.parse(str(file_to_duplicate_seq_rev), \"fasta\"):\n",
    "        sequence_1=\"\"\n",
    "        sequence_2=\"\"\n",
    "        id_seq=str(record.id) #>CDS85_chr1_3621451_3621710\n",
    "        id_seq_e=id_seq.split(\"_\")\n",
    "        header=str(id_seq_e[1])+\"_\"+str(id_seq_e[2])+\"_\"+str(id_seq_e[3])\n",
    "        SEQ=record.seq\n",
    "        for car in SEQ:\n",
    "            if str(car) == \".\":\n",
    "                sequence_1=str(sequence_1)+\"N\"\n",
    "                sequence_2=str(sequence_2)+\"N\"\n",
    "            if str(car) in no_change:\n",
    "                sequence_1=str(sequence_1)+str(car)\n",
    "                sequence_2=str(sequence_2)+str(car)\n",
    "            if str(car) == \"W\":\n",
    "                sequence_1=str(sequence_1)+\"A\"\n",
    "                sequence_2=str(sequence_2)+\"T\"\n",
    "            if str(car) == \"S\":\n",
    "                sequence_1=str(sequence_1)+\"C\"\n",
    "                sequence_2=str(sequence_2)+\"G\"\n",
    "            if str(car) == \"M\":\n",
    "                sequence_1=str(sequence_1)+\"A\"\n",
    "                sequence_2=str(sequence_2)+\"C\"\n",
    "            if str(car) == \"K\":\n",
    "                sequence_1=str(sequence_1)+\"G\"\n",
    "                sequence_2=str(sequence_2)+\"T\"\n",
    "            if str(car) == \"R\":\n",
    "                sequence_1=str(sequence_1)+\"A\"\n",
    "                sequence_2=str(sequence_2)+\"G\"\n",
    "            if str(car) == \"Y\":\n",
    "                sequence_1=str(sequence_1)+\"C\"\n",
    "                sequence_2=str(sequence_2)+\"T\"\n",
    "        if  len(sequence_1) == len(sequence_2) and len(sequence_1) == len(SEQ): #check that sequences have the same length, as expected\n",
    "            #>CDS_1|Pearl_millet|So-21-28371-02|Allele_1\n",
    "            header_1=\">CDS_\"+str(count)+\"_\"+str(header)+\"|Pearl_millet|\"+str(individual)+\"|Allele_1\"\n",
    "            fR.write(str(header_1)+\"\\n\")\n",
    "            fR.write(str(sequence_1)+\"\\n\")\n",
    "            header_2=\">CDS_\"+str(count)+\"_\"+str(header)+\"|Pearl_millet|\"+str(individual)+\"|Allele_2\"\n",
    "            fR.write(str(header_2)+\"\\n\")\n",
    "            fR.write((sequence_2)+\"\\n\")\n",
    "        else:\n",
    "            print(header)\n",
    "        count+=1"
   ]
  },
  {
   "cell_type": "markdown",
   "id": "5c4444a7-c19e-48d0-b628-46654b3ee086",
   "metadata": {},
   "source": [
    "## 4. Concatenation of all the CDS for all individuals per chromosome"
   ]
  },
  {
   "cell_type": "markdown",
   "id": "a424f92a-cef4-4522-870a-c549553b8da0",
   "metadata": {},
   "source": [
    "#### [INDIV]_ALL_CHR_FULL_IUPAC_CDS_reverse_DIPLOID.fasta\n",
    "#### header: >CDS_100_chr1_40274075_40276121|Pearl_millet|So-21-28371-04|Allele_1"
   ]
  },
  {
   "cell_type": "markdown",
   "id": "e0fd9909-8ae9-4e1f-bfbc-aad0dae303ae",
   "metadata": {},
   "source": [
    "#### => Concatenation of all the CDS of all individuals together, per chromosome "
   ]
  },
  {
   "cell_type": "markdown",
   "id": "d731a992-3676-43d9-8f92-4fcfb729fc6b",
   "metadata": {},
   "source": [
    "#### => files: CHR*_forward_reverse.fasta"
   ]
  },
  {
   "cell_type": "code",
   "execution_count": null,
   "id": "a9447126-f2e7-44cf-87b8-bd3afa884835",
   "metadata": {},
   "outputs": [],
   "source": [
    "# grep \">\" So-8-7539-04_ALL_CHR_FULL_IUPAC_CDS_forward_DIPLOID.fasta | wc -l\n",
    "# 6736\n",
    "# grep \">\" So-8-7539-04_ALL_CHR_FULL_IUPAC_CDS_reverse_DIPLOID.fasta | wc -l\n",
    "# 6950"
   ]
  },
  {
   "cell_type": "code",
   "execution_count": null,
   "id": "04992b8b-1352-4058-94ab-d541cf380e7e",
   "metadata": {},
   "outputs": [],
   "source": [
    "list_of_individuals=[\"So-21-28371-02\",\"So-21-28371-03\",\"So-21-28371-04\",\"So-21-29822-01\",\"So-21-29822-02\",\"So-21-30529-01\",\"So-21-30529-03\",\"Sa-8-12129-01\",\"Sa-8-12129-02\",\"Sa-8-12129-03\",\"Sa-8-12129-04\",\"So-10-20006-01\",\"So-10-20006-02\",\"So-10-20110-02\",\"So-10-20110-03\",\"So-10-20117-01\",\"So-10-20117-03\",\"So-10-20279-01\",\"So-10-20279-02\",\"So-10-20279-03\",\"So-10-20302-01\",\"So-10-20302-02\",\"So-10-20302-03\",\"So-10-20327-01\",\"So-10-20327-02\",\"So-10-20327-03\",\"So-10-20333-01\",\"So-10-20333-02\",\"So-10-20333-04\",\"So-10-20333-05\",\"So-10-20347-01\",\"So-10-20347-02\",\"So-10-20347-03\",\"So-10-20363-01\",\"So-10-20363-02\",\"So-10-20363-03\",\"So-10-56965-01\",\"So-10-56965-02\",\"So-10-56965-03\",\"Sa-8-11559-01\",\"So-21-1061629-02\",\"So-21-28371-01\",\"Sa-21-28423-03\",\"Sa-21-82410-01\",\"So-8-6858-03\",\"Sa-21-30147-01\",\"Sa-6-4253-02\",\"So-6-51263-01\",\"So-21-30507-01\",\"So-21-28423-01\",\"Sa-21-82410-02\",\"So-21-28425-01\",\"So-8-7291-01\",\"Sa-21-30147-02\",\"So-6-4253-01\",\"So-6-51263-02\",\"So-21-30507-02\",\"So-21-28423-02\",\"Sa-21-82410-03\",\"So-21-28425-02\",\"Sa-21-30147-03\",\"So-6-4253-02\",\"Sa-6-3385-01\",\"So-21-28423-03\",\"Sa-21-82410-04\",\"So-21-28425-03\",\"So-8-7539-01\",\"Sa-21-30147-04\",\"So-6-3189-01\",\"Sa-21-30507-01\",\"Sa-21-30218-01\",\"So-8-6685-01\",\"So-8-7539-02\",\"Sa-8-7085-01\",\"So-6-3189-02\",\"So-6-3385-02\",\"Sa-21-30507-02\",\"Sa-21-30218-02\",\"So-8-6685-02\",\"So-8-7539-03\",\"Sa-8-7085-02\",\"Sa-6-4253-01\",\"Sa-6-51263-02\",\"Sa-21-30529-03\",\"So-8-6858-02\",\"Sa-8-11559-03\",\"So-6-3189-03\",\"So-6-4452-01\",\"Sa-24-60424-03\",\"Sa-21-30218-03\",\"So-8-6685-03\",\"So-8-7539-04\",\"Sa-8-7085-03\",\"Sa-6-3189-01\",\"So-21-30522-01\",\"So-21-30218-01\",\"So-8-7024-01\",\"So-8-11559-01\",\"Sa-8-7085-04\",\"Sa-6-3189-02\",\"Sa-21-30515-01\",\"So-21-30522-02\",\"So-21-28449-01\",\"So-21-30218-02\",\"So-8-7024-02\",\"So-8-11559-02\",\"Sa-8-7085-05\",\"Sa-6-3189-03\",\"Sa-21-30515-02\",\"So-21-30522-03\",\"So-21-28449-02\",\"So-21-30218-03\",\"So-8-7024-03\",\"So-8-11559-03\",\"Sa-8-7085-06\",\"So-21-1061629-01\",\"Sa-6-3189-04\",\"Sa-21-30529-02\",\"Sa-21-28423-02\",\"So-21-28449-04\",\"Sa-21-28425-02\",\"So-21-30529-02\",\"So-10-20006-03\",\"So-10-20333-03\",\"So-21-1061629-03\",\"Sa-24-60424-01\"]"
   ]
  },
  {
   "cell_type": "code",
   "execution_count": null,
   "id": "2f4cafa2-cd1c-4cfa-be27-9d456a4a94f2",
   "metadata": {
    "tags": []
   },
   "outputs": [],
   "source": [
    "from Bio import SeqIO\n",
    "\n",
    "# Getting of all the individuals for each CDS:\n",
    "\n",
    "nb_CDS_forward=6736/2\n",
    "nb_CDS_reverse=6950/2\n",
    "\n",
    "for i in range(1,int(nb_CDS_forward+1)):\n",
    "    with open(\"results/CDS/CDS\"+str(i)+\"_forward.fasta\", \"w\") as all_cds_forward_chr:\n",
    "        for indiv in list_of_individuals:\n",
    "            for record in SeqIO.parse(\"results/\"+str(indiv)+\"_ALL_CHR_FULL_IUPAC_CDS_forward_DIPLOID.fasta\", \"fasta\"):\n",
    "                header=record.id #>CDS_1_chr1_421212_421553|Pearl_millet|So-21-1061629-03|Allele_1\n",
    "                e=header.split(\"_\")\n",
    "                cds_id=e[1]\n",
    "                if str(cds_id) == str(i):\n",
    "                    seq=str(record.seq)\n",
    "                    all_cds_forward_chr.write(\">\"+header+\"\\n\")\n",
    "                    all_cds_forward_chr.write(seq+\"\\n\")\n",
    "                    \n",
    "for i in range(1,int(nb_CDS_reverse+1)):\n",
    "    with open(\"results/CDS/CDS\"+str(i)+\"_reverse.fasta\", \"w\") as all_cds_forward_chr:\n",
    "        for indiv in list_of_individuals:\n",
    "            for record in SeqIO.parse(\"results/\"+str(indiv)+\"_ALL_CHR_FULL_IUPAC_CDS_reverse_DIPLOID.fasta\", \"fasta\"):\n",
    "                header=record.id #>CDS_1_chr1_421212_421553|Pearl_millet|So-21-1061629-03|Allele_1\n",
    "                e=header.split(\"_\")\n",
    "                cds_id=e[1]\n",
    "                if str(cds_id) == str(i):\n",
    "                    seq=str(record.seq)\n",
    "                    all_cds_forward_chr.write(\">\"+header+\"\\n\")\n",
    "                    all_cds_forward_chr.write(seq+\"\\n\")"
   ]
  },
  {
   "cell_type": "code",
   "execution_count": null,
   "id": "0dda2f6e-198c-4214-98b5-322f52ca75c8",
   "metadata": {},
   "outputs": [],
   "source": [
    "# cat CDS*_reverse.fasta > all_CDS_reverse.fasta\n",
    "# cat CDS*_forward.fasta > all_CDS_forward.fasta"
   ]
  },
  {
   "cell_type": "code",
   "execution_count": null,
   "id": "b06e4fc5-9e53-4ebe-9797-066b96a92236",
   "metadata": {},
   "outputs": [],
   "source": [
    "from Bio import SeqIO\n",
    "\n",
    "with open(\"results/CDS/chr1_reverse.fasta\", \"w\") as all_cds_reverse_chr:\n",
    "    for record in SeqIO.parse(\"results/CDS/all_CDS_reverse.fasta\", \"fasta\"):\n",
    "        header=record.id #CDS_1000_chr2_244263702_244263978|Pearl_millet|So-21-28371-02|Allele_1\n",
    "        e=header.split(\"_\")\n",
    "        chromosome=e[2]\n",
    "        if str(chromosome) == \"chr1\":\n",
    "            seq=str(record.seq)\n",
    "            all_cds_reverse_chr.write(\">\"+header+\"\\n\")\n",
    "            all_cds_reverse_chr.write(seq+\"\\n\") \n",
    "            \n",
    "with open(\"results/CDS/chr1_forward.fasta\", \"w\") as all_cds_forward_chr:\n",
    "    for record in SeqIO.parse(\"results/CDS/all_CDS_forward.fasta\", \"fasta\"):\n",
    "        header=record.id #CDS_1000_chr2_244263702_244263978|Pearl_millet|So-21-28371-02|Allele_1\n",
    "        e=header.split(\"_\")\n",
    "        chromosome=e[2]\n",
    "        if str(chromosome) == \"chr1\":\n",
    "            seq=str(record.seq)\n",
    "            all_cds_forward_chr.write(\">\"+header+\"\\n\")\n",
    "            all_cds_forward_chr.write(seq+\"\\n\") "
   ]
  },
  {
   "cell_type": "code",
   "execution_count": null,
   "id": "bb9b1ccd-326f-4628-8e58-d4084e09c406",
   "metadata": {},
   "outputs": [],
   "source": [
    "# cat chr1_forward.fasta chr1_reverse.fasta > CHR1_forward_reverse.fasta"
   ]
  },
  {
   "cell_type": "markdown",
   "id": "1b66b05e-6fab-4981-ae69-7acb21759544",
   "metadata": {},
   "source": [
    "## 5. Remove sequences with N"
   ]
  },
  {
   "cell_type": "code",
   "execution_count": null,
   "id": "67f93432-dfa0-405e-acb7-6bc7e329e675",
   "metadata": {},
   "outputs": [],
   "source": [
    "file=\"CHR1_forward_reverse.fasta\"\n",
    "new_file=\"CHR1_forward_reverse_no_indiv_with_N.fasta\""
   ]
  },
  {
   "cell_type": "code",
   "execution_count": null,
   "id": "67740474-54b1-4628-8d48-cae6568fced9",
   "metadata": {},
   "outputs": [],
   "source": [
    "from Bio import SeqIO\n",
    "\n",
    "with open(new_file, \"w\") as new:\n",
    "    for record in SeqIO.parse(file, \"fasta\"):\n",
    "        sequence=record.seq\n",
    "        header=\">\"+str(record.id)\n",
    "        if \"N\" not in sequence:\n",
    "            new.write(header+\"\\n\")\n",
    "            new.write(str(sequence)+\"\\n\")"
   ]
  },
  {
   "cell_type": "markdown",
   "id": "07df2e16-bab8-4925-a45e-c0009cee4166",
   "metadata": {},
   "source": [
    "## 6. Launch the script dNdSpiNpiS_1.0 per chromosome"
   ]
  },
  {
   "cell_type": "code",
   "execution_count": null,
   "id": "efa192b9-8d22-47b1-8887-006264e744f1",
   "metadata": {},
   "outputs": [],
   "source": [
    "# ./dNdSpiNpiS_1.0 -alignment_file=CHR*_forward_reverse_no_indiv_with_N.fasta -ingroup=Pearl_millet\n",
    "# CHR*_forward_reverse_no_indiv_with_N.out\n",
    "# CHR*_forward_reverse_no_indiv_with_N.sum\n",
    "\n",
    "# cat CHR*_forward_reverse_no_indiv_with_N.out > ALL_CHR_forward_reverse_no_indiv_with_N.out"
   ]
  },
  {
   "cell_type": "markdown",
   "id": "a03f3673-05b1-4d5a-b4fa-5695777f3d0c",
   "metadata": {},
   "source": [
    "## 7. Get the corrector factor = the percentage of bases called per CDS"
   ]
  },
  {
   "cell_type": "markdown",
   "id": "7d40af4a-58c4-4147-b9f5-d43f5f1b5a33",
   "metadata": {},
   "source": [
    "### Get the positions of the variant and unvariant sites"
   ]
  },
  {
   "cell_type": "code",
   "execution_count": null,
   "id": "185e42ee-f224-4b92-a90e-365085ddb176",
   "metadata": {},
   "outputs": [],
   "source": [
    "list_called_position=[]\n",
    "\n",
    "with open(\"chr1_all_sites_variant_unvariant_header.vcf\", 'r') as f:\n",
    "    for line in f:\n",
    "        e=line.split(\"\\t\")\n",
    "        if str(e[0][0]) != \"#\":\n",
    "            position=e[1]\n",
    "            list_called_position.append(position)"
   ]
  },
  {
   "cell_type": "code",
   "execution_count": null,
   "id": "bfa336e7-cb4a-40e0-bfbf-3634378cee0c",
   "metadata": {},
   "outputs": [],
   "source": [
    "list_CDS=[]\n",
    "with open(\"CHR*_forward_reverse_no_indiv_with_N.out\", 'r') as f:\n",
    "    for l in f:\n",
    "        e=l.split(\"\\t\")\n",
    "        contig=e[0]\n",
    "        if str(contig) != \"Contig_name\":\n",
    "            if str(contig) not in list_CDS:\n",
    "                list_CDS.append(contig)"
   ]
  },
  {
   "cell_type": "code",
   "execution_count": null,
   "id": "25ee50bb-636a-4f84-b4e4-7ded600d9fc8",
   "metadata": {},
   "outputs": [],
   "source": [
    "dico_CDS_callable={}\n",
    "for CDS in list_CDS: # CDS_1000_chr2_244263702_244263978\n",
    "    dico_CDS_callable[CDS]={}\n",
    "    e=CDS.split(\"_\")\n",
    "    start=e[3] # start of a CDS\n",
    "    end=e[4] # end of a CDS\n",
    "    length_cds=int(end)-int(start)\n",
    "    dico_CDS_callable[CDS][\"length\"]=length_cds\n",
    "    nb_callable_sites=0\n",
    "    for position in list_called_position: # if a called position is within a CDS:\n",
    "        if int(position) > int(start) and int(position) < int(end): \n",
    "            nb_callable_sites+=1\n",
    "        dico_CDS_callable[CDS][\"nb_callable_sites\"]=nb_callable_sites\n",
    "        percentage_called=float(nb_callable_sites/length_cds)\n",
    "        dico_CDS_callable[CDS][\"precentage_called\"]=percentage_called"
   ]
  },
  {
   "cell_type": "markdown",
   "id": "c1eb5469-b219-4861-af62-d569fc156c92",
   "metadata": {},
   "source": [
    "## 8.1 Mean diversity all genome and bootstrap"
   ]
  },
  {
   "cell_type": "code",
   "execution_count": null,
   "id": "7d14e496-22f0-461e-8268-f7b68c1a6749",
   "metadata": {},
   "outputs": [
    {
     "name": "stdout",
     "output_type": "stream",
     "text": [
      "0.003723955763111119\n",
      "0.011901595381950526\n",
      "0.3128955105261534\n",
      "6453\n"
     ]
    }
   ],
   "source": [
    "sum_pi_N=0.0\n",
    "sum_pi_S=0.0\n",
    "\n",
    "dico_for_bootstrap={}\n",
    "\n",
    "c=0\n",
    "with open(\"./final_all_data.txt\",\"w\") as fR:\n",
    "    fR.write(\"Contig\\tp_called\\tcorr_factor\\tpiN\\tpiS\\tpiN_corr\\tpiS_corr\\n\")\n",
    "    with open(\"/ALL_CHR_forward_reverse_no_indiv_with_N.out\", \"r\") as f:\n",
    "        for line in f:\n",
    "            e=line.split(\"\\t\")\n",
    "            contig=e[0]\n",
    "            if str(e[0])!=\"Contig_name\":\n",
    "                p_called=float(dico_CDS_callable[contig][\"precentage_called\"])\n",
    "                if float(p_called) > 0.0:\n",
    "                    dico_for_bootstrap[c]={}\n",
    "                    f_corr=float(1.0/float(p_called))\n",
    "                    contig=e[0]\n",
    "                    piN=e[26]\n",
    "                    new_piN=float(piN)*float(f_corr)\n",
    "                    sum_pi_N+=float(new_piN)\n",
    "                    piS=e[27]\n",
    "                    new_piS=float(piS)*float(f_corr)\n",
    "                    sum_pi_S+=float(new_piS)\n",
    "                    sum_factor+=float(p_called)\n",
    "                    dico_for_bootstrap[c][\"contig\"]=contig\n",
    "                    dico_for_bootstrap[c][\"new_piN\"]=new_piN\n",
    "                    dico_for_bootstrap[c][\"new_piS\"]=new_piS\n",
    "                    fR.write(str(contig)+\"\\t\"+str(p_called)+\"\\t\"+str(f_corr)+\"\\t\"+str(piN)+\"\\t\"+str(piS)+\"\\t\"+str(new_piN)+\"\\t\"+str(new_piS)+\"\\n\")\n",
    "                    c+=1\n",
    "                        \n",
    "mean_piN=float(sum_pi_N)/float(c)\n",
    "mean_piS=float(sum_pi_S)/float(c)\n",
    "print(mean_piN)\n",
    "print(mean_piS)\n",
    "ratio=float(mean_piN)/float(mean_piS)\n",
    "print(ratio)"
   ]
  },
  {
   "cell_type": "markdown",
   "id": "fa249f21-8743-41e3-b159-acdbd190a6e0",
   "metadata": {},
   "source": [
    "### Bootstrap:"
   ]
  },
  {
   "cell_type": "code",
   "execution_count": null,
   "id": "69665f4c-dd60-4658-b56f-2e8fafb3ba73",
   "metadata": {},
   "outputs": [],
   "source": [
    "import random\n",
    "\n",
    "list_nb=[]\n",
    "list_mean_piN=[]\n",
    "list_mean_piS=[]\n",
    "list_ratio=[]\n",
    "\n",
    "nb_tests=1000\n",
    "\n",
    "for z in range(0,nb_tests):\n",
    "    sum_piN=0.0\n",
    "    sum_piS=0.0\n",
    "    sum_p_called=0.0\n",
    "    c=0\n",
    "    for i in range(0,6452):\n",
    "        nb=random.randint(0,6452)\n",
    "        piN=dico_for_bootstrap[nb][\"new_piN\"]        \n",
    "        piS=dico_for_bootstrap[nb][\"new_piS\"]\n",
    "        sum_piS+=float(piS)\n",
    "        sum_piN+=float(piN)\n",
    "        c+=1\n",
    "    mean_diversity_N=float(sum_piN)/float(c)\n",
    "    mean_diversity_S=float(sum_piS)/float(c)\n",
    "    ratio_boot=float(mean_diversity_N)/float(mean_diversity_S)\n",
    "    list_mean_piN.append(mean_diversity_N)\n",
    "    list_mean_piS.append(mean_diversity_S)\n",
    "    list_ratio.append(ratio_boot)\n",
    "list_mean_piN.sort()\n",
    "list_mean_piS.sort()\n",
    "list_ratio.sort()"
   ]
  },
  {
   "cell_type": "code",
   "execution_count": null,
   "id": "a8a1ec95-548e-4cfc-a7d0-92c98cfaab79",
   "metadata": {},
   "outputs": [],
   "source": [
    "print(list_mean_piN[24])\n",
    "print(list_mean_piN[974])"
   ]
  },
  {
   "cell_type": "code",
   "execution_count": null,
   "id": "77579509-20ff-4ab4-a253-72aa906b1363",
   "metadata": {},
   "outputs": [],
   "source": [
    "print(list_mean_piS[24])\n",
    "print(list_mean_piS[974])"
   ]
  },
  {
   "cell_type": "code",
   "execution_count": null,
   "id": "fd049c66-2512-43c9-9b08-d41acb7c1162",
   "metadata": {},
   "outputs": [],
   "source": [
    "print(list_ratio[24])\n",
    "print(list_ratio[974])"
   ]
  },
  {
   "cell_type": "markdown",
   "id": "2e72dd83-e53a-4737-b514-e3b5d1c6089b",
   "metadata": {},
   "source": [
    "## 8.2 Mean diversity per region"
   ]
  },
  {
   "cell_type": "code",
   "execution_count": 149,
   "id": "1905c301-3442-4115-9b7b-3309280645f5",
   "metadata": {},
   "outputs": [
    {
     "name": "stdout",
     "output_type": "stream",
     "text": [
      "75\n",
      "0.004851244558997575\n",
      "0.01010781069902459\n",
      "0.4799500805318528\n"
     ]
    }
   ],
   "source": [
    "# chr1\n",
    "# 99793192\n",
    "# 161758608\n",
    "# chr2\n",
    "# 131088113\n",
    "# 186649394\n",
    "# chr3\n",
    "# 101238580\n",
    "# 188834466\n",
    "# chr4\n",
    "# 118491302\n",
    "# 160157576\n",
    "# chr6_1\n",
    "# 132717319\n",
    "# 201482742\n",
    "# chr6_2\n",
    "# 224133144\n",
    "# 229409049\n",
    "# chr7\n",
    "# 128666580\n",
    "# 177591959\n",
    "\n",
    "sum_pi_N=0.0\n",
    "sum_pi_S=0.0\n",
    "sum_factor=0.0\n",
    "\n",
    "start_candidate_region=101238580\n",
    "end_candidate_region=188834466\n",
    "\n",
    "c=0\n",
    "with open(\"./out_put_scripts/ALL_CHR_forward_reverse_no_indiv_with_N.out\", \"r\") as f:\n",
    "    for line in f:\n",
    "        e=line.split(\"\\t\")\n",
    "        if str(e[0])!=\"Contig_name\":\n",
    "            contig=e[0]\n",
    "            info=contig.split(\"_\")\n",
    "            chromosome=info[2]\n",
    "            start=info[3]\n",
    "            end=info[4]\n",
    "            p_called=float(dico_factor_corr[contig][\"factor\"])\n",
    "            if str(chromosome) == \"chr3\":\n",
    "                if int(start) > int(start_candidate_region) and int(start) < int (end_candidate_region): \n",
    "                    if float(p_called) > 0.0:\n",
    "                        c+=1\n",
    "                        f_corr=float(1.0/float(p_called))\n",
    "                        contig=e[0]\n",
    "                        piN=e[26]\n",
    "                        new_piN=float(piN)*float(f_corr)\n",
    "                        sum_pi_N+=float(new_piN)\n",
    "                        piS=e[27]\n",
    "                        new_piS=float(piS)*float(f_corr)\n",
    "                        sum_pi_S+=float(new_piS)\n",
    "                        sum_factor+=float(p_called)\n",
    "                        #print(new_piN,new_piS)\n",
    "                        \n",
    "print(c)\n",
    "mean_piN=float(sum_pi_N)/float(c)\n",
    "mean_piS=float(sum_pi_S)/float(c)\n",
    "print(mean_piN)\n",
    "print(mean_piS)\n",
    "ratio=float(mean_piN)/float(mean_piS)\n",
    "print(ratio)"
   ]
  },
  {
   "cell_type": "markdown",
   "id": "3f118edb-d907-4923-951d-6194bc886586",
   "metadata": {},
   "source": [
    "## Boostrap analysis and resampling procedure for the regions:"
   ]
  },
  {
   "cell_type": "code",
   "execution_count": null,
   "id": "ad13b220-33d9-4dc5-ae7f-4c7b1522e35a",
   "metadata": {},
   "outputs": [],
   "source": [
    "# chr1\n",
    "# 99793192\n",
    "# 161758608\n",
    "# chr2\n",
    "# 131088113\n",
    "# 186649394\n",
    "# chr3\n",
    "# 101238580\n",
    "# 188834466\n",
    "# chr4\n",
    "# 118491302\n",
    "# 160157576\n",
    "# chr6_1\n",
    "# 132717319\n",
    "# 201482742\n",
    "# chr6_2\n",
    "# 224133144\n",
    "# 229409049\n",
    "# chr7\n",
    "# 128666580\n",
    "# 177591959"
   ]
  },
  {
   "cell_type": "code",
   "execution_count": 126,
   "id": "6906f9f2-fe85-415c-a613-f76a2544758e",
   "metadata": {},
   "outputs": [],
   "source": [
    "start_candidate_region=128666580\n",
    "end_candidate_region=177591959\n",
    "chromosome_teste=\"chr7\"\n",
    "\n",
    "dico_for_bootstrap={}\n",
    "\n",
    "c=0\n",
    "with open(\"./out_put_scripts/final/final_all_data.txt\", \"r\") as f:\n",
    "    for line in f:\n",
    "        e=line.split(\"\\t\")\n",
    "        contig=e[0]\n",
    "        if str(e[0])!=\"Contig\":\n",
    "            info=contig.split(\"_\")\n",
    "            chromosome=info[2]\n",
    "            start=info[3]\n",
    "            end=info[4]\n",
    "            if str(chromosome) == str(chromosome_teste):\n",
    "                if int(start) > int(start_candidate_region) and int(start) < int (end_candidate_region): \n",
    "                    dico_for_bootstrap[c]={}\n",
    "                    new_piN=e[5] #new_piN /!\\\n",
    "                    new_piS=e[6] #new_piN /!\\\n",
    "                    f_corr=e[2]\n",
    "                    p_called=e[1]\n",
    "                    dico_for_bootstrap[c][\"contig\"]=contig\n",
    "                    dico_for_bootstrap[c][\"new_piN\"]=new_piN\n",
    "                    dico_for_bootstrap[c][\"new_piS\"]=new_piS\n",
    "                    dico_for_bootstrap[c][\"f_corr\"]=f_corr\n",
    "                    dico_for_bootstrap[c][\"p_called\"]=p_called\n",
    "                    c+=1\n"
   ]
  },
  {
   "cell_type": "code",
   "execution_count": 127,
   "id": "b460a2b8-c37d-4aed-afd5-f1daf33743ee",
   "metadata": {},
   "outputs": [
    {
     "name": "stdout",
     "output_type": "stream",
     "text": [
      "28\n"
     ]
    }
   ],
   "source": [
    "print(len(dico_for_bootstrap))\n",
    "#print(dico_for_bootstrap)\n",
    "nb_cds_region=int(len(dico_for_bootstrap))"
   ]
  },
  {
   "cell_type": "code",
   "execution_count": 128,
   "id": "316c6a4f-55a2-4fd1-9820-4b24c835a1c3",
   "metadata": {},
   "outputs": [
    {
     "name": "stdout",
     "output_type": "stream",
     "text": [
      "28\n"
     ]
    }
   ],
   "source": [
    "print(c)"
   ]
  },
  {
   "cell_type": "code",
   "execution_count": 129,
   "id": "1c809c77-5203-4054-b79a-03a5f104d67a",
   "metadata": {},
   "outputs": [],
   "source": [
    "import random\n",
    "\n",
    "list_nb=[]\n",
    "list_mean_piN=[]\n",
    "list_mean_piS=[]\n",
    "list_ratio=[]\n",
    "\n",
    "for z in range(0,1000):\n",
    "    sum_piN=0.0\n",
    "    sum_piS=0.0\n",
    "    sum_p_called=0.0\n",
    "    for i in range(0,int(nb_cds_region)-1):\n",
    "        nb=random.randint(0,int(nb_cds_region)-1)\n",
    "        piN=dico_for_bootstrap[nb][\"new_piN\"]        \n",
    "        piS=dico_for_bootstrap[nb][\"new_piS\"]\n",
    "        p_called=dico_for_bootstrap[nb][\"p_called\"]\n",
    "        sum_piS+=float(piS)\n",
    "        sum_piN+=float(piN)\n",
    "        sum_p_called+=float(p_called)\n",
    "    mean_diversity_N=float(sum_piN)/float(c)\n",
    "    mean_diversity_S=float(sum_piS)/float(c)\n",
    "    list_mean_piN.append(mean_diversity_N)\n",
    "    list_mean_piS.append(mean_diversity_S)\n",
    "    ratio_boot=float(mean_diversity_N)/float(mean_diversity_S)\n",
    "    list_ratio.append(ratio_boot)\n",
    "\n",
    "list_mean_piN.sort()\n",
    "list_mean_piS.sort()\n",
    "list_ratio.sort()"
   ]
  },
  {
   "cell_type": "code",
   "execution_count": 130,
   "id": "d0e04ce3-a895-4bc6-b04e-15a2f56ffef0",
   "metadata": {},
   "outputs": [
    {
     "name": "stdout",
     "output_type": "stream",
     "text": [
      "1000\n",
      "1000\n",
      "1000\n"
     ]
    }
   ],
   "source": [
    "print(len(list_mean_piN))\n",
    "print(len(list_mean_piS))\n",
    "print(len(list_ratio))"
   ]
  },
  {
   "cell_type": "code",
   "execution_count": 131,
   "id": "45de1450-c588-4b2c-b410-acfbf76ebfb6",
   "metadata": {},
   "outputs": [
    {
     "name": "stdout",
     "output_type": "stream",
     "text": [
      "0.2587849331878365\n",
      "1.756649087963642\n"
     ]
    }
   ],
   "source": [
    "print(list_ratio[24])\n",
    "print(list_ratio[974])"
   ]
  },
  {
   "cell_type": "code",
   "execution_count": 132,
   "id": "05feb9dc-347e-4e6f-acd3-1d472cd5057f",
   "metadata": {},
   "outputs": [
    {
     "name": "stdout",
     "output_type": "stream",
     "text": [
      "0.003436509115860871\n",
      "0.008914685120636309\n"
     ]
    }
   ],
   "source": [
    "print(list_mean_piN[24])\n",
    "print(list_mean_piN[974])"
   ]
  },
  {
   "cell_type": "code",
   "execution_count": 133,
   "id": "6a9b1cac-37fb-4fe0-8429-db3f626d154b",
   "metadata": {},
   "outputs": [
    {
     "name": "stdout",
     "output_type": "stream",
     "text": [
      "0.0034600523308874445\n",
      "0.017457396664200243\n"
     ]
    }
   ],
   "source": [
    "print(list_mean_piS[24])\n",
    "print(list_mean_piS[974])"
   ]
  },
  {
   "cell_type": "markdown",
   "id": "15860cc3-a139-495b-ae03-30da074ad9fc",
   "metadata": {},
   "source": [
    "## Resampling procedure"
   ]
  },
  {
   "cell_type": "code",
   "execution_count": 96,
   "id": "ad6a7ab6-2c91-4433-925c-14f644a05b1e",
   "metadata": {},
   "outputs": [],
   "source": [
    "# chr1\n",
    "# 99793192\n",
    "# 161758608\n",
    "# chr2\n",
    "# 131088113\n",
    "# 186649394\n",
    "# chr3\n",
    "# 101238580\n",
    "# 188834466\n",
    "# chr4\n",
    "# 118491302\n",
    "# 160157576\n",
    "# chr6_1\n",
    "# 132717319\n",
    "# 201482742\n",
    "# chr6_2\n",
    "# 224133144\n",
    "# 229409049\n",
    "# chr7\n",
    "# 128666580\n",
    "# 177591959"
   ]
  },
  {
   "cell_type": "code",
   "execution_count": 134,
   "id": "13a97cbd-2746-4eaa-b63b-6fe7352a2e8d",
   "metadata": {},
   "outputs": [
    {
     "name": "stdout",
     "output_type": "stream",
     "text": [
      "piN: 0.006026999416800385\n",
      "piS: 0.009938425985307253\n",
      "nbre de CDS: 28\n"
     ]
    }
   ],
   "source": [
    "dico_for_resampling={}\n",
    "\n",
    "c=0\n",
    "\n",
    "sum_piN=0\n",
    "sum_piS=0\n",
    "\n",
    "c=0\n",
    "\n",
    "list_excluded_cds=[]\n",
    "\n",
    "i=0\n",
    "with open(\"./out_put_scripts/final/final_all_data.txt\", \"r\") as f:\n",
    "    for line in f:\n",
    "        e=line.split(\"\\t\")\n",
    "        contig=e[0]\n",
    "        if str(e[0])!=\"Contig\":\n",
    "            info=contig.split(\"_\")\n",
    "            chromosome=info[2]\n",
    "            start=info[3]\n",
    "            end=info[4]\n",
    "            if str(chromosome) == str(chromosome_teste):\n",
    "                if int(start) > int(start_candidate_region) and int(start) < int (end_candidate_region): \n",
    "                    c+=1\n",
    "                    new_piN=e[5] #new_piN /!\\\n",
    "                    new_piS=e[6] #new_piN /!\\\n",
    "                    sum_piN+=float(new_piN)\n",
    "                    sum_piS+=float(new_piS)\n",
    "                    list_excluded_cds.append(i)\n",
    "            i+=1\n",
    "mean_piN_region=float(sum_piN)/float(c)\n",
    "mean_piS_region=float(sum_piS)/float(c)\n",
    "mean\n",
    "nb_cds=c\n",
    "print(\"piN:\",mean_piN_region)\n",
    "print(\"piS:\",mean_piS_region)\n",
    "print(\"nbre de CDS:\", nb_cds)"
   ]
  },
  {
   "cell_type": "code",
   "execution_count": 135,
   "id": "d7389504-8a60-439a-b1ec-bbc6fa29ea6e",
   "metadata": {},
   "outputs": [
    {
     "name": "stdout",
     "output_type": "stream",
     "text": [
      "[5875, 5876, 5877, 5878, 5879, 5880, 5881, 5882, 5883, 5884, 5885, 5886, 5887, 5888, 5889, 5890, 5891, 6295, 6296, 6297, 6298, 6299, 6300, 6301, 6302, 6303, 6304, 6305]\n"
     ]
    }
   ],
   "source": [
    "print(list_excluded_cds)"
   ]
  },
  {
   "cell_type": "code",
   "execution_count": 136,
   "id": "2e8b06ff-8f45-4678-a452-a91f8ded1023",
   "metadata": {},
   "outputs": [
    {
     "name": "stdout",
     "output_type": "stream",
     "text": [
      "6425\n",
      "{'contig': 'CDS_100_chr1_40274075_40276121', 'piN': 0.0033369593207547166, 'piS': 0.011938673207547169}\n"
     ]
    }
   ],
   "source": [
    "dico_resampling={}\n",
    "i=0\n",
    "c=0\n",
    "with open(\"./out_put_scripts/final/final_all_data.txt\", \"r\") as f:\n",
    "    for line in f:\n",
    "        e=line.split(\"\\t\")\n",
    "        contig=e[0]\n",
    "        if str(e[0])!=\"Contig\":\n",
    "            if int(i) not in list_excluded_cds:\n",
    "                dico_resampling[c]={}\n",
    "                new_piN=e[5] #new_piN /!\\\n",
    "                new_piS=e[6] #new_piN /!\\\n",
    "                dico_resampling[c][\"contig\"]=contig\n",
    "                dico_resampling[c][\"piN\"]=float(new_piN)\n",
    "                dico_resampling[c][\"piS\"]=float(new_piS)\n",
    "                c+=1\n",
    "            i+=1\n",
    "print(len(dico_resampling))\n",
    "print(dico_resampling[0])"
   ]
  },
  {
   "cell_type": "code",
   "execution_count": 139,
   "id": "b3061d30-ba62-4fa1-aa52-a35b9783a605",
   "metadata": {},
   "outputs": [
    {
     "name": "stdout",
     "output_type": "stream",
     "text": [
      "1000\n",
      "1000\n",
      "1000\n",
      "\n",
      "piN:\n",
      "min: 0.0012655323676580617\n",
      "mean region: 0.006026999416800385\n",
      "max: 0.007654614460578837 \n",
      "\n",
      "978\n",
      "\n",
      "piS:\n",
      "min: 0.00398924739542613\n",
      "mean region: 0.009938425985307253\n",
      "max: 0.027548076364746342 \n",
      "\n",
      "347\n",
      "\n",
      "RATIO:\n",
      "min: 0.0681070330403458\n",
      "mean region: 0.6064339992782123\n",
      "max: 1.409681816960023 \n",
      "\n",
      "935\n"
     ]
    }
   ],
   "source": [
    "import random\n",
    "\n",
    "list_mean_piN=[]\n",
    "list_mean_piS=[]\n",
    "list_mean_ratio=[]\n",
    "\n",
    "for z in range(0,1000):\n",
    "    sum_piN=0.0\n",
    "    sum_piS=0.0\n",
    "    for i in range(0,int(nb_cds)-1):\n",
    "        nb=random.randint(0,len(dico_resampling)-1)\n",
    "        piN=dico_resampling[nb][\"piN\"]\n",
    "        piS=dico_resampling[nb][\"piS\"]\n",
    "        sum_piN+=float(piN)\n",
    "        sum_piS+=float(piS)\n",
    "    mean_piN=float(sum_piN)/float(nb_cds)\n",
    "    mean_piS=float(sum_piS)/float(nb_cds)\n",
    "    ratio=float(mean_piN)/float(mean_piS)\n",
    "    list_mean_ratio.append(ratio)\n",
    "    list_mean_piN.append(float(mean_piN))\n",
    "    list_mean_piS.append(float(mean_piS))\n",
    "\n",
    "list_mean_piN_sort=sorted(list_mean_piN, key = lambda x:float(x))\n",
    "list_mean_piS_sort=sorted(list_mean_piS, key = lambda x:float(x))\n",
    "list_mean_ratio_sort=sorted(list_mean_ratio, key = lambda x:float(x))\n",
    "print(len(list_mean_piN_sort))\n",
    "print(len(list_mean_piS_sort))\n",
    "print(len(list_mean_ratio_sort))\n",
    "\n",
    "count_rank=0\n",
    "print(\"\\npiN:\")\n",
    "\n",
    "print(\"min:\",min(list_mean_piN_sort))\n",
    "print(\"mean region:\",mean_piN_region)\n",
    "print(\"max:\",max(list_mean_piN_sort),\"\\n\")\n",
    "\n",
    "for mean in list_mean_piN_sort:\n",
    "    if float(mean_piN_region) >= float(mean):\n",
    "        count_rank+=1\n",
    "print(count_rank)\n",
    "\n",
    "count_rank=0\n",
    "for mean in list_mean_piS_sort:\n",
    "    if float(mean_piS_region) >= float(mean):\n",
    "        count_rank+=1\n",
    "print(\"\\npiS:\")\n",
    "print(\"min:\",min(list_mean_piS_sort))\n",
    "print(\"mean region:\",mean_piS_region)\n",
    "print(\"max:\",max(list_mean_piS_sort),\"\\n\")\n",
    "print(count_rank)\n",
    "\n",
    "count_rank=0\n",
    "mean_ratio=0.6064339992782123\n",
    "for mean in list_mean_ratio_sort:\n",
    "    if float(mean_ratio) >= float(mean):\n",
    "        count_rank+=1\n",
    "print(\"\\nRATIO:\")\n",
    "print(\"min:\",min(list_mean_ratio_sort))\n",
    "print(\"mean region:\",mean_ratio)\n",
    "print(\"max:\",max(list_mean_ratio_sort),\"\\n\")\n",
    "print(count_rank)"
   ]
  }
 ],
 "metadata": {
  "kernelspec": {
   "display_name": "Python 3 (ipykernel)",
   "language": "python",
   "name": "python3"
  },
  "language_info": {
   "codemirror_mode": {
    "name": "ipython",
    "version": 3
   },
   "file_extension": ".py",
   "mimetype": "text/x-python",
   "name": "python",
   "nbconvert_exporter": "python",
   "pygments_lexer": "ipython3",
   "version": "3.8.10"
  }
 },
 "nbformat": 4,
 "nbformat_minor": 5
}
