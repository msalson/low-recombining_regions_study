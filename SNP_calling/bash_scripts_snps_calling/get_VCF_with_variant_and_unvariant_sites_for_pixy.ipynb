{
 "cells": [
  {
   "cell_type": "markdown",
   "id": "5f2ece22-908d-46d4-832b-6a7c84196cc4",
   "metadata": {},
   "source": [
    "## Concatenate variant and non-variant sites"
   ]
  },
  {
   "cell_type": "markdown",
   "id": "be2642bf-71e0-4d6e-b6b7-51b3acb9717c",
   "metadata": {},
   "source": [
    "#### Preliminary first steps are calling of non variants sites with gatk\n",
    "#### Then is selection of sites with enough DP with get_unvariant_sites.py\n",
    "#### Then are ordering with bcftools view -S and removing of LowQual"
   ]
  },
  {
   "cell_type": "code",
   "execution_count": null,
   "id": "ff7acafa-fa7a-443f-822a-548f504889f8",
   "metadata": {},
   "outputs": [],
   "source": [
    "### On cluster:\n",
    "\n",
    "#gatk --java-options -Xmx70G GenotypeGVCFs -L chr1 -R reference.fasta -V gendb://db_chr1 -O chr1_include-non-variant-sites.vcf.gz --include-non-variant-sites\n",
    "\n",
    "#./get_unvariant_sites.py -v chr1_include-non-variant-sites.vcf\n"
   ]
  },
  {
   "cell_type": "raw",
   "id": "56bcd305-1573-486e-8323-561bf75a4fda",
   "metadata": {},
   "source": [
    "#./get_unvariant_sites.py -v chr1_include-non-variant-sites.vcf\n",
    "\n",
    "#!/usr/bin/env python3\n",
    "\n",
    "import os,re\n",
    "import argparse\n",
    "\n",
    "parser = argparse.ArgumentParser(description='Script to get invariant sites')\n",
    "parser.add_argument('-v', '--vcf_file', help='vcf file', required=True)\n",
    "\n",
    "args = parser.parse_args()\n",
    "\n",
    "vcf=args.vcf_file\n",
    "\n",
    "with open(\"chr1_non_variant_sites.vcf\", \"w\") as fR:\n",
    "\twith open (vcf, \"r\", encoding=\"utf8\", errors='ignore') as file:\n",
    "\t\tfor line in file:\n",
    "\t\t\te=line.split(\"\\t\")\n",
    "\t\t\tif str(e[0][0]) != \"#\":\n",
    "\t\t\t\talt=e[4]\n",
    "\t\t\t\tif str(alt) == \".\": \n",
    "\t\t\t\t\tc=0 \n",
    "\t\t\t\t\tfor i in range(9,135):\n",
    "\t\t\t\t\t\tsearch=e[i].split(\":\") #GT:DP:RGQ\n",
    "\t\t\t\t\t\tif len(search)>1:\n",
    "\t\t\t\t\t\t\tGT=search[0]\n",
    "\t\t\t\t\t\t\tDP=search[1]\n",
    "\t\t\t\t\t\t\tif int(DP)>=5 and int(DP)<100 and str(GT) == \"0/0\" :\n",
    "\t\t\t\t\t\t\t\tc+=1\n",
    "\t\t\t\t\tif int(c) >= 63:\n",
    "\t\t\t\t\t\tfR.write(line)\n"
   ]
  },
  {
   "cell_type": "code",
   "execution_count": null,
   "id": "aa5e6c28-f64c-41ee-b884-f7cb86ac7185",
   "metadata": {},
   "outputs": [],
   "source": [
    "### After cluster:\n",
    "\n",
    "#cat header.txt chr1_non_variant_sites.vcf > chr1_non_variant_sites_header.vcf\n",
    "\n",
    "#bcftools view -S samples_ordered.txt chr1_non_variant_sites_header.vcf > chr1_non_variant_sites_ordered.vcf \n",
    "\n",
    "#grep -v \"LowQual\" chr1_non_variant_sites_ordered.vcf > chr1_non_variant_sites_ordered_no_low_qual.vcf\n"
   ]
  },
  {
   "cell_type": "markdown",
   "id": "70df9e82-05b4-46a2-8a59-fa7319da841e",
   "metadata": {},
   "source": [
    "#### 1. masking genotypes with DP < 5 and DP > 100"
   ]
  },
  {
   "cell_type": "code",
   "execution_count": 1,
   "id": "9cf8bd6b-eed7-468f-8d35-7ca8577a8042",
   "metadata": {},
   "outputs": [],
   "source": [
    "vcf = \"chr1_non_variant_sites_ordered_no_low_qual.vcf\""
   ]
  },
  {
   "cell_type": "code",
   "execution_count": 2,
   "id": "58d8bc7a-ee13-4b9e-b15e-7a769846e350",
   "metadata": {},
   "outputs": [],
   "source": [
    "with open(vcf, \"r\") as file:\n",
    "    with open(str(vcf)+\"_masked.vcf\", \"w\") as r_file:\n",
    "        for line in file:\n",
    "            e=line.split(\"\\t\")\n",
    "            if str(e[0][0]) == \"#\":\n",
    "                r_file.write(line)\n",
    "            if str(e[0][0]) != \"#\": #GT:DP:RGQ => DP in 2nd position\n",
    "                r_file.write(str(e[0]))\n",
    "                for i in range(1,8):\n",
    "                    r_file.write(\"\\t\"+str(e[i]))\n",
    "                r_file.write(\"\\tGT:DP\")\n",
    "                for i in range(9,135):\n",
    "                    INFOS=e[i].split(\":\") #0/0:9:27\n",
    "                    GT=INFOS[0]\n",
    "                    DP=INFOS[1] \n",
    "                    if str(DP) != \".\":\n",
    "                        if int(DP) >= 5 and int(DP) <= 100:\n",
    "                            r_file.write(\"\\t\"+str(GT)+\":\"+str(DP))\n",
    "                        if int(DP) < 5 or int(DP) > 100: #add as masked ./. if DP < 5 or DP > 100\n",
    "                            r_file.write(\"\\t./.:\"+str(DP))    \n",
    "                r_file.write(\"\\n\")\n",
    "                #print(line)\n",
    "                #break"
   ]
  },
  {
   "cell_type": "markdown",
   "id": "7d5f758c-936e-485c-bcaa-172705f3be77",
   "metadata": {},
   "source": [
    "#### 2. Concatenate variant and non variant sites"
   ]
  },
  {
   "cell_type": "markdown",
   "id": "e50aff4c-0b90-4217-abac-bee70333b889",
   "metadata": {},
   "source": [
    "##### 2.1 Get positions of non-variants, with masked genotypes:"
   ]
  },
  {
   "cell_type": "code",
   "execution_count": 3,
   "id": "77c2e0d4-d540-4615-b39b-6e852c48ff1e",
   "metadata": {},
   "outputs": [
    {
     "name": "stdout",
     "output_type": "stream",
     "text": [
      "1015965\n",
      "chr7\t51037\t.\tG\t.\t.\t.\tDP=844;AN=252\tGT:DP\t0/0:5\t0/0:5\t0/0:6\t0/0:6\t./.:4\t0/0:5\t0/0:10\t./.:4\t0/0:5\t0/0:7\t0/0:11\t0/0:8\t0/0:11\t0/0:6\t./.:4\t0/0:8\t0/0:6\t0/0:8\t0/0:14\t0/0:8\t0/0:11\t0/0:8\t0/0:5\t0/0:5\t0/0:5\t./.:4\t./.:4\t0/0:6\t0/0:9\t./.:4\t0/0:6\t0/0:7\t0/0:5\t0/0:9\t0/0:9\t0/0:10\t./.:1\t./.:4\t0/0:9\t0/0:5\t0/0:7\t0/0:12\t0/0:10\t0/0:6\t0/0:8\t0/0:7\t0/0:10\t0/0:7\t0/0:5\t0/0:10\t0/0:11\t0/0:8\t./.:4\t0/0:10\t0/0:10\t0/0:9\t0/0:10\t./.:1\t0/0:8\t0/0:6\t./.:3\t0/0:7\t0/0:6\t./.:0\t./.:3\t0/0:7\t./.:2\t0/0:9\t0/0:7\t0/0:9\t0/0:7\t0/0:6\t./.:4\t0/0:8\t0/0:5\t./.:2\t./.:3\t0/0:5\t0/0:6\t0/0:7\t./.:2\t0/0:5\t0/0:15\t0/0:9\t./.:4\t0/0:5\t0/0:6\t0/0:8\t0/0:5\t./.:4\t0/0:8\t0/0:6\t./.:4\t0/0:5\t0/0:8\t0/0:8\t0/0:8\t0/0:5\t0/0:10\t./.:4\t0/0:7\t0/0:5\t0/0:6\t0/0:8\t0/0:9\t./.:4\t./.:3\t0/0:6\t0/0:5\t0/0:11\t0/0:5\t./.:2\t0/0:6\t0/0:6\t0/0:6\t0/0:5\t0/0:6\t./.:2\t./.:4\t0/0:9\t0/0:6\t0/0:11\t0/0:17\t0/0:12\t0/0:13\t0/0:9\n",
      "\n"
     ]
    }
   ],
   "source": [
    "dico_non_variants={}\n",
    "with open(str(vcf)+\"_masked.vcf\", \"r\") as file:\n",
    "    for line in file:\n",
    "        e=line.split(\"\\t\")\n",
    "        if str(e[0][0]) != \"#\":\n",
    "            position=e[1]\n",
    "            dico_non_variants[str(position)]=line\n",
    "print(len(dico_non_variants))\n",
    "print(dico_non_variants[\"51037\"])"
   ]
  },
  {
   "cell_type": "markdown",
   "id": "bf438cbe-fe17-4143-bdb0-f9a227e954d5",
   "metadata": {},
   "source": [
    "##### 2.2 Reformat vcf with variants to have GT:DP as for invariant sites:"
   ]
  },
  {
   "cell_type": "code",
   "execution_count": 4,
   "id": "f448b065-5f61-48c9-bb1c-7c870ee5aea6",
   "metadata": {},
   "outputs": [],
   "source": [
    "vcf_variants = \"chr1_variant_sites_cerao.vcf\""
   ]
  },
  {
   "cell_type": "code",
   "execution_count": 5,
   "id": "0f4763f9-011f-4613-93a9-c226935878af",
   "metadata": {},
   "outputs": [],
   "source": [
    "with open(vcf_variants+\".reformat.vcf\", \"w\") as fr:\n",
    "    with open(vcf_variants, \"r\") as file:\n",
    "        for line in file:\n",
    "            e=line.split(\"\\t\")\n",
    "            if str(e[0][0]) == \"#\": \n",
    "                fr.write(line)\n",
    "            if str(e[0][0]) != \"#\": #GT:AD:DP:GQ ...=> DP in third position\n",
    "                fr.write(str(e[0]))\n",
    "                for i in range(1,8):\n",
    "                    fr.write(\"\\t\"+str(e[i]))\n",
    "                fr.write(\"\\tGT:DP\")\n",
    "                for i in range(9,135):\n",
    "                    INFOS=e[i].split(\":\") #0/0:9:27\n",
    "                    GT=INFOS[0]\n",
    "                    DP=INFOS[2]\n",
    "                    fr.write(\"\\t\"+str(GT)+\":\"+str(DP))\n",
    "            fr.write(\"\\n\")"
   ]
  },
  {
   "cell_type": "markdown",
   "id": "6e2fa136-475c-4016-a398-b52f52f6a02a",
   "metadata": {},
   "source": [
    "##### 2.3 Get positions of variants:"
   ]
  },
  {
   "cell_type": "code",
   "execution_count": 6,
   "id": "548d028b-c390-4260-8a23-cc87d91238ff",
   "metadata": {},
   "outputs": [
    {
     "name": "stdout",
     "output_type": "stream",
     "text": [
      "10090\n",
      "chr7\t129947\t.\tT\tG\t1484.59\tPASS\t.\tGT:DP\t0/1:5\t0/0:8\t0/0:10\t0/0:9\t./.:4\t0/0:11\t0/0:6\t./.:1\t0/0:5\t0/0:6\t./.:4\t0/0:11\t0/0:5\t0/0:9\t0/0:8\t0/0:8\t0/0:9\t0/0:5\t0/0:9\t0/0:15\t./.:4\t0/0:13\t./.:2\t0/0:7\t0/0:5\t0/0:9\t0/0:10\t1/1:8\t0/0:14\t0/0:9\t0/0:5\t0/0:9\t0/0:11\t0/0:11\t0/0:5\t0/0:11\t./.:3\t0/1:8\t0/0:6\t0/0:8\t0/0:11\t0/1:10\t0/0:5\t0/0:6\t0/0:9\t./.:1\t0/0:11\t0/0:11\t0/0:9\t0/0:10\t0/0:9\t0/0:5\t./.:1\t0/0:10\t0/0:7\t0/0:6\t0/0:9\t0/0:17\t0/0:5\t0/0:7\t0/0:11\t0/0:9\t0/0:10\t0/0:5\t./.:4\t0/0:10\t0/0:6\t./.:2\t0/1:11\t0/0:6\t0/0:8\t./.:3\t0/0:7\t0/1:11\t0/0:5\t./.:4\t0/0:6\t0/0:14\t0/0:5\t0/0:6\t0/0:8\t0/0:6\t0/0:9\t0/0:9\t0/0:7\t./.:3\t0/0:5\t0/0:12\t0/0:8\t./.:3\t0/0:7\t0/0:12\t./.:2\t0/0:9\t0/0:8\t0/0:5\t0/0:9\t1/1:7\t0/0:5\t./.:3\t0/0:8\t0/0:5\t0/0:8\t0/0:6\t0/1:6\t0/0:8\t0/0:8\t0/0:8\t0/0:11\t./.:1\t0/0:15\t0/0:5\t0/0:9\t./.:4\t0/0:5\t0/0:8\t0/0:9\t0/0:10\t0/0:13\t0/0:7\t0/0:6\t0/0:17\t0/1:12\t0/0:18\t0/0:9\t0/0:8\n",
      "\n"
     ]
    }
   ],
   "source": [
    "dico_variants={}\n",
    "with open(vcf_variants+\".reformat.vcf\", \"r\") as file:\n",
    "    for line in file:\n",
    "        e=line.split(\"\\t\")\n",
    "        if str(e[0][0]) != \"#\": \n",
    "            position=e[1] \n",
    "            dico_variants[str(position)]=line\n",
    "print(len(dico_variants))\n",
    "print(dico_variants[\"129947\"])"
   ]
  },
  {
   "cell_type": "markdown",
   "id": "e56bb872-7012-4d5e-a2ee-1ec2c2a26fe6",
   "metadata": {},
   "source": [
    "##### 2.4 Write file with all positions: variants and unvariants"
   ]
  },
  {
   "cell_type": "code",
   "execution_count": 7,
   "id": "19c1d9ac-e4f0-47de-87fc-71c310eeff11",
   "metadata": {},
   "outputs": [],
   "source": [
    "with open(\"chr1_all_sites_variant_unvariant.vcf\", \"w\") as R_file:\n",
    "    for i in range(1,330000000):\n",
    "        if str(i) in dico_non_variants: \n",
    "            R_file.write(dico_non_variants[str(i)])\n",
    "        if str(i) in dico_variants: \n",
    "            R_file.write(dico_variants[str(i)])"
   ]
  },
  {
   "cell_type": "markdown",
   "id": "7ab4875e-0bb0-45f5-b068-ccc4b8d170e9",
   "metadata": {},
   "source": [
    "##### 2.5 Pixy to get diversity"
   ]
  },
  {
   "cell_type": "code",
   "execution_count": null,
   "id": "5961ee6a-2b75-45d4-8ccb-a75e5185e868",
   "metadata": {},
   "outputs": [],
   "source": [
    "#cat header-cerao.txt chr1_all_sites_variant_unvariant.vcf > chr1_all_sites_variant_unvariant_header.vcf\n",
    "#conda activate pixy\n",
    "#bgzip chr1_all_sites_variant_unvariant_header.vcf\n",
    "#tabix chr1_all_sites_variant_unvariant_header.vcf.gz\n",
    "#pixy --stats pi --vcf chr1_all_sites_variant_unvariant_header.vcf --populations samples_pop_pixy.txt --window_size 10000 --output_folder output_pixy --output_prefix pixy_o --n_cores 15"
   ]
  }
 ],
 "metadata": {
  "kernelspec": {
   "display_name": "Python 3 (ipykernel)",
   "language": "python",
   "name": "python3"
  },
  "language_info": {
   "codemirror_mode": {
    "name": "ipython",
    "version": 3
   },
   "file_extension": ".py",
   "mimetype": "text/x-python",
   "name": "python",
   "nbconvert_exporter": "python",
   "pygments_lexer": "ipython3",
   "version": "3.8.10"
  }
 },
 "nbformat": 4,
 "nbformat_minor": 5
}
