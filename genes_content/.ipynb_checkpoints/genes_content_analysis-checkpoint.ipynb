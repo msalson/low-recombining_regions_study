{
 "cells": [
  {
   "cell_type": "markdown",
   "id": "ceebc253-885b-41bf-bfde-4b8c28f50a50",
   "metadata": {},
   "source": [
    "## Script to extract the sequences of the genes within the candidate regions\n",
    "\n",
    "#### The gff file of pearl millet used can be found here: https://www.ebi.ac.uk/ena/browser/view/ERZ15184682 \n",
    "#### The assembly file can be found here: https://www.ebi.ac.uk/ena/browser/view/GCA_947561735\n"
   ]
  },
  {
   "cell_type": "code",
   "execution_count": 4,
   "id": "c7cabc7c-377e-4742-a934-1ef2f19b8ff4",
   "metadata": {},
   "outputs": [],
   "source": [
    "from Bio.Seq import Seq\n",
    "from Bio import SeqIO\n",
    "import os\n",
    "import argparse\n",
    "\n",
    "dict_contigs = SeqIO.to_dict(SeqIO.parse(\"pearl_millet_23DB_ONT_assembly.fasta\", 'fasta')) "
   ]
  },
  {
   "cell_type": "code",
   "execution_count": 5,
   "id": "8f49db2e-79da-425e-95e0-4423be6c6962",
   "metadata": {},
   "outputs": [],
   "source": [
    "gff=\"pearl_millet_23DB_ONT_assembly_annotation_transfer.gff\"\n",
    "\n",
    "chromosome=\"chr3\"\n",
    "start=101238580\n",
    "end=188834466\n",
    "\n",
    "dico_genes={}\n",
    "with open(gff, \"r\") as f:\n",
    "    for line in f:\n",
    "        if str(line[0])!=\"#\":\n",
    "            e=line.split(\"\\t\")\n",
    "            feature=e[2]\n",
    "            if str(feature)==\"gene\":\n",
    "                chrms=e[0]\n",
    "                posB=e[3]\n",
    "                posE=e[4]\n",
    "                ID_search=e[8]\n",
    "                ID_search_s=ID_search.split(\"_\")\n",
    "                ID_true=str(ID_search_s[1])+\"_\"+str(ID_search_s[2])\n",
    "                if str(ID_true) not in dico_genes and str(chrms) == str(chromosome) and int(posB)>=int(start):\n",
    "                    if int(posB) <= int(end):\n",
    "                        dico_genes[ID_true]={}\n",
    "                        dico_genes[ID_true][\"posB\"]=posB\n",
    "                        dico_genes[ID_true][\"posE\"]=posE"
   ]
  },
  {
   "cell_type": "markdown",
   "id": "85b0b127-fa9b-4dea-9b26-89d5d664631f",
   "metadata": {},
   "source": [
    "### Generates a file with the ID of the genes within a given region:"
   ]
  },
  {
   "cell_type": "code",
   "execution_count": 6,
   "id": "25ad677c-6233-4c94-b361-bb565f4c9ccb",
   "metadata": {},
   "outputs": [],
   "source": [
    "with open(\"candidate_region_chr3_list_of_genes.txt\", 'w') as f:\n",
    "    f.write(\"chromosome\\tstart\\tend\\tID_genes\\n\")\n",
    "    for gene in dico_genes:\n",
    "        f.write(str(chromosome)+\"\\t\"+str(dico_genes[gene][\"posB\"])+\"\\t\"+str(dico_genes[gene][\"posE\"])+\"\\t\"+str(gene)+\"\\n\")"
   ]
  },
  {
   "cell_type": "code",
   "execution_count": 8,
   "id": "a327c8fe-c21e-4a4c-b5bf-2118a8da70cb",
   "metadata": {},
   "outputs": [
    {
     "name": "stdout",
     "output_type": "stream",
     "text": [
      "Number of genes within the region: 842\n"
     ]
    }
   ],
   "source": [
    "print(\"Number of genes within the region:\",len(dico_genes))"
   ]
  },
  {
   "cell_type": "markdown",
   "id": "9113f721-5a14-40b9-9bae-a81c349944dc",
   "metadata": {},
   "source": [
    "### Extracts the sequences of the genes and writes them in a file: \n",
    "\n",
    "#### uses the fasta file with the informations stored in dict_contigs\n",
    "#### and the start and end positions of the genes found in the file candidate_region_chrX_list_of_genes.txt generated above."
   ]
  },
  {
   "cell_type": "code",
   "execution_count": 11,
   "id": "ff7fd58f-c890-4f8e-88c6-d3cc74c3042c",
   "metadata": {},
   "outputs": [],
   "source": [
    "for seq in dict_contigs:\n",
    "    if str(seq)==str(chromosome):\n",
    "        sequence_chr=dict_contigs[seq].seq\n",
    "        \n",
    "with open(\"genes_sequences_\"+str(chromosome)+\"_\"+str(start)+\"_\"+str(end)+\".fasta\", 'w',) as fR:\n",
    "    for gene in dico_genes:\n",
    "        name=str(gene)\n",
    "        B=int(dico_genes[gene][\"posB\"])-1\n",
    "        E=int(dico_genes[gene][\"posE\"])-1\n",
    "        seq_gene=sequence_chr[int(B):int(E)]\n",
    "        fR.write(\">\"+str(name)+\"_\"+str(B)+\"_\"+str(E)+\"\\n\"+str(seq_gene)+\"\\n\")\n"
   ]
  }
 ],
 "metadata": {
  "kernelspec": {
   "display_name": "Python 3 (ipykernel)",
   "language": "python",
   "name": "python3"
  },
  "language_info": {
   "codemirror_mode": {
    "name": "ipython",
    "version": 3
   },
   "file_extension": ".py",
   "mimetype": "text/x-python",
   "name": "python",
   "nbconvert_exporter": "python",
   "pygments_lexer": "ipython3",
   "version": "3.8.10"
  }
 },
 "nbformat": 4,
 "nbformat_minor": 5
}
