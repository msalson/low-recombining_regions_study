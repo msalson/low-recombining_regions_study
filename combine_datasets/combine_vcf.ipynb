{
 "cells": [
  {
   "cell_type": "markdown",
   "id": "5634fc3d-5a40-48f5-aa4f-a9a7263070f6",
   "metadata": {},
   "source": [
    "### Jupyter Notebook to generate a matrix of genotypes with cultivated and wild populations"
   ]
  },
  {
   "cell_type": "markdown",
   "id": "1d709762-f4d9-4b2b-bf26-1dd6857312b4",
   "metadata": {},
   "source": [
    "#### We used here: \n",
    "#### 1. A Senegalese spatial dataset composed of 126 cultivated samples \n",
    "#### 2. An African dataset with 47 wild samples from Senegal and Mauritanie (Western Africa), and Mali and Niger (Central Africa)\n",
    "#### We used the SNPs identified as contributing the most to a deviant population structure on a region of chr3 (101-189 Mb) found in the spatial cultivated population, resulting from a previous analysis (see Analysis of the candidate regions)\n",
    "#### This region of chromosome 3 likely harbors a large structural variant in the cultivated population \n",
    "#### The aim was to visualize the genotypes of these SNPs in the wild population, to test the hypothesis that the variant might have been intogressed"
   ]
  },
  {
   "cell_type": "markdown",
   "id": "f9f0fcc0-c894-449f-9db2-46ed93efec85",
   "metadata": {},
   "source": [
    "## --------------------------------------------------------------"
   ]
  },
  {
   "cell_type": "markdown",
   "id": "613a84d8-e25a-4525-95d5-1029803cf317",
   "metadata": {},
   "source": [
    "### 1. This part consists in combining the two VCF files for the candidate region and the outlier SNPs"
   ]
  },
  {
   "cell_type": "markdown",
   "id": "593126ee-eb65-46b9-9b9a-ea14cd1c5b16",
   "metadata": {},
   "source": [
    "#### List of the SNPs identified on chr3 as contributing the most to the local population structure of the spatial dataset\n",
    "(see structural_variants_analysis_pearl_millet/matrix_of_genotypes/tables_genotypes.R)"
   ]
  },
  {
   "cell_type": "code",
   "execution_count": 3,
   "id": "3404e9b1-7917-4ba6-89df-d8358e1f5d1d",
   "metadata": {},
   "outputs": [],
   "source": [
    "outlier_SNPs_PCAdapt_analysis=\"SNPs_outliers_spatial_dataset_chr3_101-189Mb.txt\""
   ]
  },
  {
   "cell_type": "code",
   "execution_count": 7,
   "id": "38416aaa-0a36-4bc8-b3e1-9ad29c0e61e9",
   "metadata": {},
   "outputs": [
    {
     "name": "stdout",
     "output_type": "stream",
     "text": [
      "238\n"
     ]
    }
   ],
   "source": [
    "# obtention of the position of the outlier SNPs identified with the spatial dataset\n",
    "\n",
    "list_pos=[]\n",
    "with open(outlier_SNPs_PCAdapt_analysis, \"r\", encoding=\"utf8\", errors='ignore') as v :\n",
    "        for line in v :\n",
    "            e=line.split(\"\\t\")\n",
    "            if str(e[0][0]) != \"c\": \n",
    "                pos=e[0]\n",
    "                list_pos.append(pos)\n",
    "print(len(list_pos))"
   ]
  },
  {
   "cell_type": "markdown",
   "id": "dd4892fe-ad9c-43c6-a065-86abf95848d3",
   "metadata": {},
   "source": [
    "#### VCF file with the wild samples from Senegal, Mauritanie, Mali and Niger, ordered following the countries"
   ]
  },
  {
   "cell_type": "code",
   "execution_count": 9,
   "id": "83341ae7-45df-4b02-a1a2-ceef81a84bd4",
   "metadata": {},
   "outputs": [],
   "source": [
    "vcf_wild_samples=\"WILD_samples_MAURITANIE_SENEGAL_MALI_NIGER_ordered.vcf\""
   ]
  },
  {
   "cell_type": "code",
   "execution_count": 11,
   "id": "28420f2d-064c-4fea-9b70-d0833f4ea38e",
   "metadata": {},
   "outputs": [
    {
     "name": "stdout",
     "output_type": "stream",
     "text": [
      "158\n"
     ]
    }
   ],
   "source": [
    "list_pos_common=[]\n",
    "list_ref_wild=[]\n",
    "list_alt_wild=[]\n",
    "with open(vcf_wild_samples, \"r\", encoding=\"utf8\", errors='ignore') as v :\n",
    "        for line in v :\n",
    "            e=line.split(\"\\t\")\n",
    "            c=e[0]\n",
    "            if str(e[0][0]) != \"#\" and str(c)==\"chr3\": \n",
    "                pos=e[1]\n",
    "                if str(pos) in list_pos:\n",
    "                    list_pos_common.append(pos)\n",
    "                    ref_wild=e[3]\n",
    "                    list_ref_wild.append(ref_wild)\n",
    "                    alt_wild=e[4]\n",
    "                    list_alt_wild.append(alt_wild)\n",
    "                    \n",
    "print(len(list_pos_common))"
   ]
  },
  {
   "cell_type": "markdown",
   "id": "143164ff-7910-4cf3-88c5-e41ec8f0d400",
   "metadata": {},
   "source": [
    "#### VCF file of the spatial dataset corresponding to the candidate region of chromosome 3 and with the samples ordered following the distinct clusters of samples identified in the population"
   ]
  },
  {
   "cell_type": "code",
   "execution_count": 13,
   "id": "a1644b4b-2501-4a25-965a-35fc6fa15dc1",
   "metadata": {},
   "outputs": [],
   "source": [
    "vcf_spatial_dataset=\"spatial_dataset_chr3_101-189Mb_ordered.vcf\""
   ]
  },
  {
   "cell_type": "code",
   "execution_count": 15,
   "id": "64a4533f-d6d9-4b58-95f4-bce625c66f13",
   "metadata": {},
   "outputs": [
    {
     "name": "stdout",
     "output_type": "stream",
     "text": [
      "158\n"
     ]
    }
   ],
   "source": [
    "list_pos_spatial=[]\n",
    "list_ref_spatial=[]\n",
    "list_alt_spatial=[]\n",
    "with open(vcf_spatial_dataset, \"r\", encoding=\"utf8\", errors='ignore') as v :\n",
    "        for line in v :\n",
    "            e=line.split(\"\\t\")\n",
    "            c=e[0]\n",
    "            if str(e[0][0]) != \"#\" and str(c)==\"chr3\": \n",
    "                pos=e[1]\n",
    "                if str(pos) in list_pos_common:\n",
    "                    list_pos_spatial.append(pos)\n",
    "                    ref_cerao=e[3]\n",
    "                    list_ref_spatial.append(ref_cerao)\n",
    "                    alt_cerao=e[4]\n",
    "                    list_alt_spatial.append(alt_cerao)\n",
    "                    \n",
    "print(len(list_pos_spatial))"
   ]
  },
  {
   "cell_type": "markdown",
   "id": "4eaefc34-f6ea-4229-8d0d-5f2a80da9620",
   "metadata": {},
   "source": [
    "#### Check if all REF and ALT alleles are the same in the two datasets:"
   ]
  },
  {
   "cell_type": "code",
   "execution_count": 27,
   "id": "10367ad3-91c8-4ad6-9290-b0b715b46bf2",
   "metadata": {},
   "outputs": [
    {
     "name": "stdout",
     "output_type": "stream",
     "text": [
      "158 158\n"
     ]
    }
   ],
   "source": [
    "count_ref=0\n",
    "count_alt=0\n",
    "for i in range(0, len(list_alt_spatial)):\n",
    "    if str(list_alt_wild[i]) == str(list_alt_spatial[i]):\n",
    "        count_alt+=1\n",
    "        #print(i, list_alt_wild[i], ist_alt_spatial[i])\n",
    "    if str(list_ref_wild[i]) == str(list_ref_spatial[i]):\n",
    "        count_ref+=1\n",
    "        #print(i, list_ref_wild[i], ist_ref_spatial[i])\n",
    "print(count_ref, count_alt)"
   ]
  },
  {
   "cell_type": "markdown",
   "id": "f6f362ba-1937-479a-a4ee-381178fd24a1",
   "metadata": {},
   "source": [
    "#### Generate a Dictionary with the genotypes of the wild samples"
   ]
  },
  {
   "cell_type": "code",
   "execution_count": 53,
   "id": "47212839-9d37-47b8-a072-d2d0fc5518b6",
   "metadata": {},
   "outputs": [
    {
     "name": "stdout",
     "output_type": "stream",
     "text": [
      "47\n",
      "158\n"
     ]
    }
   ],
   "source": [
    "dico={}\n",
    "with open(vcf_wild_samples, \"r\", encoding=\"utf8\", errors='ignore') as v2 :\n",
    "        for line in v2 :\n",
    "            e=line.split(\"\\t\")\n",
    "            c=e[0]\n",
    "            if str(e[0][0]) != \"#\" and str(c)==\"chr3\": \n",
    "                pos=e[1]\n",
    "                if str(pos) in list_pos_common: \n",
    "                    dico[pos]=[]\n",
    "                    for i in range(9,56):\n",
    "                        genotype=e[i]\n",
    "                        dico[pos].append(genotype)\n",
    "for k in dico:\n",
    "    print(len(dico[k]))\n",
    "    break\n",
    "print(len(dico))"
   ]
  },
  {
   "cell_type": "markdown",
   "id": "8a6e80c5-4656-4287-bc00-e91effc5df8d",
   "metadata": {},
   "source": [
    "#### Combine the two VCF files:"
   ]
  },
  {
   "cell_type": "code",
   "execution_count": 60,
   "id": "9baf8213-dd75-442e-9a22-a1d78613c450",
   "metadata": {},
   "outputs": [],
   "source": [
    "combined_vcf_spatial_wild=\"combined_wild_spatial_dataset_chr3_101-189Mb.vcf\""
   ]
  },
  {
   "cell_type": "code",
   "execution_count": 69,
   "id": "552451b0-3a6f-4cb8-8774-8b97049f5563",
   "metadata": {},
   "outputs": [],
   "source": [
    "with open(combined_vcf_spatial_wild, \"w\") as fileR:\n",
    "    with open(vcf_spatial_dataset, \"r\", encoding=\"utf8\", errors='ignore') as v :\n",
    "        for line in v :\n",
    "            e=line.split(\"\\t\")\n",
    "            if str(e[0][0]) != \"#\": \n",
    "                chromosome=e[0]\n",
    "                pos=str(e[1])\n",
    "                line=line[:-1]\n",
    "                if str(chromosome) == \"chr3\" and str(pos) in list_pos_common: \n",
    "                    fileR.write(line)\n",
    "                    for geno in dico[pos]:\n",
    "                        fileR.write(\"\\t\"+str(geno))"
   ]
  },
  {
   "cell_type": "markdown",
   "id": "a59d6976-1343-4396-800b-7865fb2d6b54",
   "metadata": {},
   "source": [
    "### 2. This part of the script consists in generating the matrix of genotypes with the combined VCF with cultivated and wild samples:"
   ]
  },
  {
   "cell_type": "markdown",
   "id": "6ea2a2ba-bf65-413f-a094-4e31a96949d5",
   "metadata": {},
   "source": [
    "#### To obtain the matrix, and generate a panda dataframe:"
   ]
  },
  {
   "cell_type": "code",
   "execution_count": 70,
   "id": "baa4fbb0-b49c-4aa6-9e2a-3980ed68b20b",
   "metadata": {},
   "outputs": [
    {
     "name": "stdout",
     "output_type": "stream",
     "text": [
      "158\n"
     ]
    }
   ],
   "source": [
    "nb_snp=0\n",
    "nb_columns=182\n",
    "output_matrix_geno=\"matrix\"\n",
    "with open(output_matrix_geno, \"w\") as fmatrix:\n",
    "    with open(combined_vcf_spatial_wild, \"r\", encoding=\"utf8\", errors='ignore') as vcfFile :\n",
    "        for line in vcfFile :\n",
    "            e=line.split(\"\\t\")\n",
    "            if str(e[0]) == \"#CHROM\": \n",
    "                nb_columns=len(e)\n",
    "                nb_samples=int(nb_columns)-9\n",
    "            if line[0]!=\"#\":\n",
    "                nb_snp+=1\n",
    "                for i in range(9,int(nb_columns)):\n",
    "                    infos=e[i]\n",
    "                    genotypeSearch=infos.split(\":\")\n",
    "                    geno=genotypeSearch[0]\n",
    "                    if str(geno)==\"./.\":\n",
    "                        geno=1.0\n",
    "                    if str(geno)==\"0/1\" or str(geno)==\"0|1\":\n",
    "                        geno=3.0\n",
    "                    if str(geno)==\"1/1\" or str(geno)==\"1|1\":\n",
    "                         geno=2.0\n",
    "                    if str(geno)==\"0/0\" or str(geno)==\"0|0\":\n",
    "                           geno=4.0\n",
    "                    if int(i) < (int(nb_columns)-1):\n",
    "                        fmatrix.write(str(geno)+\"\\t\")\n",
    "                    if int(i) == (int(nb_columns)-1):\n",
    "                        fmatrix.write(str(geno))\n",
    "            fmatrix.write(\"\\n\")\n",
    "print(nb_snps)"
   ]
  },
  {
   "cell_type": "code",
   "execution_count": 71,
   "id": "f214d907-1847-431a-ae22-d79f08015090",
   "metadata": {},
   "outputs": [],
   "source": [
    "import pandas as pd\n",
    "data = pd.read_csv(output_matrix_geno, sep=\"\\t\", header=None)\n",
    "data = data.transpose()"
   ]
  },
  {
   "cell_type": "markdown",
   "id": "15f4e0b8-ba4b-457b-8def-0963ff376fce",
   "metadata": {},
   "source": [
    "#### To obtain x axis labels for the matrix of genotypes:"
   ]
  },
  {
   "cell_type": "code",
   "execution_count": 72,
   "id": "ef3f88f4-8a24-47bd-9610-309e15d50082",
   "metadata": {},
   "outputs": [],
   "source": [
    "output_index_pos_SNPs_outliers=\"matrix_pos\"\n",
    "with open(output_index_pos_SNPs_outliers, \"w\") as fR:\n",
    "    fR.write(\"chr\\tnb\\tpos\\n\")\n",
    "    with open(combined_vcf_spatial_wild, \"r\", encoding=\"utf8\", errors='ignore') as vcfFile :\n",
    "        for line in vcfFile :\n",
    "            e=line.split(\"\\t\")\n",
    "            if str(e[0][0]) != \"#\": \n",
    "                chromosome=e[1]\n",
    "                position=e[2]\n",
    "                fR.write(str(chromosome)+\"\\t\"+str(c)+\"\\t\"+str(position)+\"\\n\")"
   ]
  },
  {
   "cell_type": "code",
   "execution_count": 73,
   "id": "2a6db524-f9fa-42e7-af33-c15cb6244fda",
   "metadata": {},
   "outputs": [],
   "source": [
    "list_pos_SNPs_matrix_sep=[]\n",
    "c=0\n",
    "with open(output_index_pos_SNPs_outliers, \"r\") as f:\n",
    "    for line in f:\n",
    "        e=line.split(\"\\t\")\n",
    "        if str(e[0])!=\"chr\":\n",
    "            c+=1\n",
    "            position_SNP=e[0]\n",
    "            new_pos=round((int(position_SNP)/1000000),1)\n",
    "            if c==1:\n",
    "                list_pos_SNPs_matrix_sep.append(new_pos)\n",
    "            if c==int(nb_snps): \n",
    "                list_pos_SNPs_matrix_sep.append(new_pos) \n",
    "            if c%15 == 0:\n",
    "                list_pos_SNPs_matrix_sep.append(new_pos)\n",
    "            else:\n",
    "                if c!=1 and c!= int(nb_snps):\n",
    "                    list_pos_SNPs_matrix_sep.append(\"\")\n",
    "                \n",
    "x_axis_labels = list_pos_SNPs_matrix_sep"
   ]
  },
  {
   "cell_type": "markdown",
   "id": "1b497033-c403-4ba2-af99-3c834702f6a1",
   "metadata": {},
   "source": [
    "#### To obtain the matrix:"
   ]
  },
  {
   "cell_type": "code",
   "execution_count": 74,
   "id": "accfee6b-76f5-433b-8b59-cdafa2dd1814",
   "metadata": {},
   "outputs": [
    {
     "data": {
      "image/png": "[encoded data removed]",
      "text/plain": [
       "<Figure size 432x288 with 2 Axes>"
      ]
     },
     "metadata": {
      "needs_background": "light"
     },
     "output_type": "display_data"
    }
   ],
   "source": [
    "import numpy as np\n",
    "import seaborn as sb\n",
    "import matplotlib.pyplot as plt\n",
    "from matplotlib.colors import LinearSegmentedColormap\n",
    "\n",
    "nb_samples=173\n",
    "\n",
    "myColors = ((0.0, 0.0, 0.0, 0.1), (0.8, 0.0, 0.0, 1.0), (0.3, 0.0, 0.8, 0.30), (0.0, 0.2, 0.8, 0.8))\n",
    "cmap = LinearSegmentedColormap.from_list('Custom', myColors, len(myColors))\n",
    "heat_map = sb.heatmap(data,cmap=cmap,yticklabels=False,xticklabels=x_axis_labels) #,cmap=\"Blues\"\n",
    "heat_map.tick_params(left=False, bottom=False)\n",
    "colorbar = heat_map.collections[0].colorbar\n",
    "colorbar.set_ticks([1.4, 2.1, 2.9, 3.6])\n",
    "colorbar.set_ticklabels(['missing data', ' 1 / 1', ' 0 / 1',' 0 / 0'])\n",
    "\n",
    "heat_map.set_ylabel(\"samples\")\n",
    "heat_map.set_xlabel('SNPs')\n",
    "heat_map.set_xticklabels(x_axis_labels, rotation = 35, fontsize = 7)\n",
    "\n",
    "heat_map.figure.savefig(\"img/matrix_genotypes_spatial_wild_datasets.png\",dpi=600)\n"
   ]
  },
  {
   "cell_type": "code",
   "execution_count": 75,
   "id": "492f3dcf-41d9-4d67-8c56-30aa6fe98bae",
   "metadata": {},
   "outputs": [
    {
     "data": {
      "text/plain": [
       "0"
      ]
     },
     "execution_count": 75,
     "metadata": {},
     "output_type": "execute_result"
    }
   ],
   "source": [
    "import os\n",
    "\n",
    "os.system(\"rm matrix\")\n",
    "os.system(\"rm matrix_pos\")"
   ]
  }
 ],
 "metadata": {
  "kernelspec": {
   "display_name": "Python 3 (ipykernel)",
   "language": "python",
   "name": "python3"
  },
  "language_info": {
   "codemirror_mode": {
    "name": "ipython",
    "version": 3
   },
   "file_extension": ".py",
   "mimetype": "text/x-python",
   "name": "python",
   "nbconvert_exporter": "python",
   "pygments_lexer": "ipython3",
   "version": "3.8.10"
  }
 },
 "nbformat": 4,
 "nbformat_minor": 5
}
