{
 "cells": [
  {
   "cell_type": "markdown",
   "id": "35e077e8-6411-464e-ad37-4c3f7adcee54",
   "metadata": {},
   "source": [
    "## Jupyter-book to extract basic statistics on optical maps from a file in the cmap format\n",
    "\n",
    "##### The cmap file used here and for the study is accessible on ENA: https://www.ebi.ac.uk/ena/browser/view/ERZ21830311"
   ]
  },
  {
   "cell_type": "code",
   "execution_count": 49,
   "id": "1ca096d0-798e-4213-a1fd-914e2773d57a",
   "metadata": {},
   "outputs": [],
   "source": [
    "cmap_file = \"Pearl_Millet_Autof-Pod_103sr8.cmap\"\n",
    "\n",
    "import pandas as pa\n",
    "import numpy as np\n",
    "from matplotlib import pyplot as plt\n",
    "import os\n",
    "import re\n",
    "\n",
    "liste=[]\n",
    "with open(cmap_file, \"r\") as f1 :\n",
    "    cpt_header=int(0)\n",
    "    for line in f1 :\n",
    "        if line[0]==\"#\" : \n",
    "            cpt_header+=1\n",
    "            liste.append(int(cpt_header)-1)\n",
    "        else :\n",
    "            break\n",
    "del liste[-2]\n",
    "\n",
    "cmap_df = pa.read_csv(cmap_file, sep='\\t', skiprows=liste) "
   ]
  },
  {
   "cell_type": "code",
   "execution_count": 50,
   "id": "particular-uzbekistan",
   "metadata": {},
   "outputs": [
    {
     "data": {
      "text/html": [
       "<div>\n",
       "<style scoped>\n",
       "    .dataframe tbody tr th:only-of-type {\n",
       "        vertical-align: middle;\n",
       "    }\n",
       "\n",
       "    .dataframe tbody tr th {\n",
       "        vertical-align: top;\n",
       "    }\n",
       "\n",
       "    .dataframe thead th {\n",
       "        text-align: right;\n",
       "    }\n",
       "</style>\n",
       "<table border=\"1\" class=\"dataframe\">\n",
       "  <thead>\n",
       "    <tr style=\"text-align: right;\">\n",
       "      <th></th>\n",
       "      <th>#h CMapId</th>\n",
       "      <th>ContigLength</th>\n",
       "      <th>NumSites</th>\n",
       "      <th>SiteID</th>\n",
       "      <th>LabelChannel</th>\n",
       "      <th>Position</th>\n",
       "      <th>StdDev</th>\n",
       "      <th>Coverage</th>\n",
       "      <th>Occurrence</th>\n",
       "      <th>ChimQuality</th>\n",
       "      <th>SegDupL</th>\n",
       "      <th>SegDupR</th>\n",
       "      <th>FragileL</th>\n",
       "      <th>FragileR</th>\n",
       "      <th>OutlierFrac</th>\n",
       "      <th>ChimNorm</th>\n",
       "      <th>Mask</th>\n",
       "    </tr>\n",
       "  </thead>\n",
       "  <tbody>\n",
       "    <tr>\n",
       "      <th>0</th>\n",
       "      <td>25</td>\n",
       "      <td>29878028.6</td>\n",
       "      <td>3893</td>\n",
       "      <td>1</td>\n",
       "      <td>1</td>\n",
       "      <td>55015.7</td>\n",
       "      <td>72.3</td>\n",
       "      <td>10.0</td>\n",
       "      <td>10.0</td>\n",
       "      <td>-1.0</td>\n",
       "      <td>-1.0</td>\n",
       "      <td>-1.0</td>\n",
       "      <td>6.67</td>\n",
       "      <td>0.0</td>\n",
       "      <td>50.0</td>\n",
       "      <td>-1.0</td>\n",
       "      <td>0</td>\n",
       "    </tr>\n",
       "    <tr>\n",
       "      <th>1</th>\n",
       "      <td>25</td>\n",
       "      <td>29878028.6</td>\n",
       "      <td>3893</td>\n",
       "      <td>2</td>\n",
       "      <td>1</td>\n",
       "      <td>200494.5</td>\n",
       "      <td>33.3</td>\n",
       "      <td>83.0</td>\n",
       "      <td>83.0</td>\n",
       "      <td>-1.0</td>\n",
       "      <td>-1.0</td>\n",
       "      <td>-1.0</td>\n",
       "      <td>8.82</td>\n",
       "      <td>0.0</td>\n",
       "      <td>0.0</td>\n",
       "      <td>-1.0</td>\n",
       "      <td>0</td>\n",
       "    </tr>\n",
       "  </tbody>\n",
       "</table>\n",
       "</div>"
      ],
      "text/plain": [
       "   #h CMapId  ContigLength  NumSites  SiteID  LabelChannel  Position  StdDev  \\\n",
       "0         25    29878028.6      3893       1             1   55015.7    72.3   \n",
       "1         25    29878028.6      3893       2             1  200494.5    33.3   \n",
       "\n",
       "   Coverage  Occurrence  ChimQuality  SegDupL  SegDupR  FragileL  FragileR  \\\n",
       "0      10.0        10.0         -1.0     -1.0     -1.0      6.67       0.0   \n",
       "1      83.0        83.0         -1.0     -1.0     -1.0      8.82       0.0   \n",
       "\n",
       "   OutlierFrac  ChimNorm  Mask  \n",
       "0         50.0      -1.0     0  \n",
       "1          0.0      -1.0     0  "
      ]
     },
     "execution_count": 50,
     "metadata": {},
     "output_type": "execute_result"
    }
   ],
   "source": [
    "cmap_df.head(2)"
   ]
  },
  {
   "cell_type": "code",
   "execution_count": 51,
   "id": "smaller-marketing",
   "metadata": {},
   "outputs": [],
   "source": [
    "cmap_length=cmap_df[\"ContigLength\"]\n",
    "c=cmap_length.drop_duplicates()"
   ]
  },
  {
   "cell_type": "code",
   "execution_count": 52,
   "id": "conceptual-hampton",
   "metadata": {},
   "outputs": [],
   "source": [
    "sum = cmap_df[\"Density\"] = abs(cmap_df.NumSites / cmap_df.ContigLength * 100000)"
   ]
  },
  {
   "cell_type": "code",
   "execution_count": 53,
   "id": "physical-electric",
   "metadata": {},
   "outputs": [
    {
     "data": {
      "text/html": [
       "<div>\n",
       "<style scoped>\n",
       "    .dataframe tbody tr th:only-of-type {\n",
       "        vertical-align: middle;\n",
       "    }\n",
       "\n",
       "    .dataframe tbody tr th {\n",
       "        vertical-align: top;\n",
       "    }\n",
       "\n",
       "    .dataframe thead th {\n",
       "        text-align: right;\n",
       "    }\n",
       "</style>\n",
       "<table border=\"1\" class=\"dataframe\">\n",
       "  <thead>\n",
       "    <tr style=\"text-align: right;\">\n",
       "      <th></th>\n",
       "      <th>#h CMapId</th>\n",
       "      <th>ContigLength</th>\n",
       "      <th>NumSites</th>\n",
       "      <th>SiteID</th>\n",
       "      <th>LabelChannel</th>\n",
       "      <th>Position</th>\n",
       "      <th>StdDev</th>\n",
       "      <th>Coverage</th>\n",
       "      <th>Occurrence</th>\n",
       "      <th>ChimQuality</th>\n",
       "      <th>SegDupL</th>\n",
       "      <th>SegDupR</th>\n",
       "      <th>FragileL</th>\n",
       "      <th>FragileR</th>\n",
       "      <th>OutlierFrac</th>\n",
       "      <th>ChimNorm</th>\n",
       "      <th>Mask</th>\n",
       "      <th>Density</th>\n",
       "    </tr>\n",
       "  </thead>\n",
       "  <tbody>\n",
       "    <tr>\n",
       "      <th>0</th>\n",
       "      <td>25</td>\n",
       "      <td>29878028.6</td>\n",
       "      <td>3893</td>\n",
       "      <td>1</td>\n",
       "      <td>1</td>\n",
       "      <td>55015.7</td>\n",
       "      <td>72.3</td>\n",
       "      <td>10.0</td>\n",
       "      <td>10.0</td>\n",
       "      <td>-1.0</td>\n",
       "      <td>-1.0</td>\n",
       "      <td>-1.0</td>\n",
       "      <td>6.67</td>\n",
       "      <td>0.0</td>\n",
       "      <td>50.0</td>\n",
       "      <td>-1.0</td>\n",
       "      <td>0</td>\n",
       "      <td>13.029641</td>\n",
       "    </tr>\n",
       "  </tbody>\n",
       "</table>\n",
       "</div>"
      ],
      "text/plain": [
       "   #h CMapId  ContigLength  NumSites  SiteID  LabelChannel  Position  StdDev  \\\n",
       "0         25    29878028.6      3893       1             1   55015.7    72.3   \n",
       "\n",
       "   Coverage  Occurrence  ChimQuality  SegDupL  SegDupR  FragileL  FragileR  \\\n",
       "0      10.0        10.0         -1.0     -1.0     -1.0      6.67       0.0   \n",
       "\n",
       "   OutlierFrac  ChimNorm  Mask    Density  \n",
       "0         50.0      -1.0     0  13.029641  "
      ]
     },
     "execution_count": 53,
     "metadata": {},
     "output_type": "execute_result"
    }
   ],
   "source": [
    "cmap_df.head(1)"
   ]
  },
  {
   "cell_type": "code",
   "execution_count": 54,
   "id": "decreased-personal",
   "metadata": {},
   "outputs": [
    {
     "data": {
      "text/plain": [
       "12.746709562240234"
      ]
     },
     "execution_count": 54,
     "metadata": {},
     "output_type": "execute_result"
    }
   ],
   "source": [
    "cmap_df[\"Density\"].mean()"
   ]
  },
  {
   "cell_type": "code",
   "execution_count": 55,
   "id": "ancient-wagner",
   "metadata": {},
   "outputs": [
    {
     "name": "stdout",
     "output_type": "stream",
     "text": [
      "12.827523342270673\n"
     ]
    }
   ],
   "source": [
    "print((cmap_df[\"NumSites\"].sum())/(cmap_df[\"ContigLength\"].sum())*100000)"
   ]
  },
  {
   "cell_type": "code",
   "execution_count": 56,
   "id": "thick-phoenix",
   "metadata": {},
   "outputs": [],
   "source": [
    "nbCo=cmap_df[\"#h CMapId\"].tolist()\n",
    "nbCo_array = np.array(nbCo)\n",
    "nbCo_uniq=np.unique(nbCo_array)"
   ]
  },
  {
   "cell_type": "code",
   "execution_count": 57,
   "id": "announced-packaging",
   "metadata": {},
   "outputs": [
    {
     "name": "stdout",
     "output_type": "stream",
     "text": [
      "275\n"
     ]
    }
   ],
   "source": [
    "print(len(nbCo_uniq))"
   ]
  },
  {
   "cell_type": "code",
   "execution_count": 58,
   "id": "inclusive-headquarters",
   "metadata": {},
   "outputs": [
    {
     "name": "stdout",
     "output_type": "stream",
     "text": [
      "275\n"
     ]
    }
   ],
   "source": [
    "length_Co=cmap_df[\"ContigLength\"].tolist()\n",
    "length_Co_array = np.array(length_Co)\n",
    "length_Co_uniq=np.unique(length_Co_array)\n",
    "print(len(length_Co_uniq))"
   ]
  },
  {
   "cell_type": "code",
   "execution_count": 59,
   "id": "printable-detective",
   "metadata": {},
   "outputs": [
    {
     "name": "stdout",
     "output_type": "stream",
     "text": [
      "3402464469.3000007\n"
     ]
    }
   ],
   "source": [
    "print(np.sum(length_Co_uniq))"
   ]
  },
  {
   "cell_type": "code",
   "execution_count": 60,
   "id": "confused-template",
   "metadata": {},
   "outputs": [],
   "source": [
    "def N50(array_length) :\n",
    "    b = False\n",
    "    array_sorted=np.sort(array_length)\n",
    "    sum_length=np.sum(array_length)\n",
    "    sum_co_length=0\n",
    "    n50_value=0\n",
    "    for l in array_sorted :\n",
    "        sum_co_length+=l\n",
    "        if sum_co_length>sum_length/2 and b == False :\n",
    "            n50_value=l\n",
    "            b=True\n",
    "            break\n",
    "        l_prec=l\n",
    "    return n50_value"
   ]
  },
  {
   "cell_type": "code",
   "execution_count": 61,
   "id": "applied-ballet",
   "metadata": {},
   "outputs": [
    {
     "name": "stdout",
     "output_type": "stream",
     "text": [
      "64411627.3\n"
     ]
    }
   ],
   "source": [
    "print(N50(length_Co_uniq))"
   ]
  },
  {
   "cell_type": "code",
   "execution_count": 62,
   "id": "accurate-occupation",
   "metadata": {},
   "outputs": [
    {
     "name": "stdout",
     "output_type": "stream",
     "text": [
      "3095153.2\n",
      "1066176.25\n",
      "3095153.2\n",
      "9036594.2\n"
     ]
    }
   ],
   "source": [
    "print(np.median(length_Co_uniq))\n",
    "print(np.quantile(length_Co_uniq,0.25))\n",
    "print(np.quantile(length_Co_uniq,0.5))\n",
    "print(np.quantile(length_Co_uniq,0.75))"
   ]
  }
 ],
 "metadata": {
  "kernelspec": {
   "display_name": "Python 3 (ipykernel)",
   "language": "python",
   "name": "python3"
  },
  "language_info": {
   "codemirror_mode": {
    "name": "ipython",
    "version": 3
   },
   "file_extension": ".py",
   "mimetype": "text/x-python",
   "name": "python",
   "nbconvert_exporter": "python",
   "pygments_lexer": "ipython3",
   "version": "3.8.10"
  }
 },
 "nbformat": 4,
 "nbformat_minor": 5
}
