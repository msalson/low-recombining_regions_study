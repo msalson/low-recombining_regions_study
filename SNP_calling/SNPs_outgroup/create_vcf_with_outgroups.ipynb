{
 "cells": [
  {
   "cell_type": "markdown",
   "id": "c2a8b143-22d6-4ef3-bb7c-5da97dfca7cc",
   "metadata": {},
   "source": [
    "## Script to generate a VCF from the two outgroups\n",
    "#### The file generated with the script GENOTYPES_outgroup_concatenate.py has to be used.\n",
    "#### This file gives information on the genotypes of the two individuals SRR7440094 and SRR7440095 for each locus"
   ]
  },
  {
   "cell_type": "markdown",
   "id": "1d242d6d-a54b-4285-97c1-7e43e93caa48",
   "metadata": {},
   "source": [
    "### Get positions of the filtered SNPs from the file with the 173 samples (WGS dataset):"
   ]
  },
  {
   "cell_type": "code",
   "execution_count": 34,
   "id": "19fbe602-e9e7-47e9-90b6-7e8e0bca7d8e",
   "metadata": {},
   "outputs": [
    {
     "name": "stdout",
     "output_type": "stream",
     "text": [
      "3572843\n"
     ]
    }
   ],
   "source": [
    "dico_positions_SNPs_chr1={}\n",
    "with open(\"list_positions_SNPs_chr1.txt\", \"r\") as file_snps:\n",
    "    for snp in file_snps:\n",
    "        snp_split=snp.split(\"\\t\")\n",
    "        position=snp_split[0]\n",
    "        allele_ref=snp_split[1]\n",
    "        allele_alt=snp_split[2][:-1]\n",
    "        dico_positions_SNPs_from_173_samples[position]={}\n",
    "        dico_positions_SNPs_from_173_samples[position][\"allele_ref\"]=allele_ref\n",
    "        dico_positions_SNPs_from_173_samples[position][\"alele_alt\"]=allele_alt\n",
    "print(len(dico_positions_SNPs_from_173_samples))"
   ]
  },
  {
   "cell_type": "code",
   "execution_count": 35,
   "id": "9eab2d35-01cf-4f22-80d0-889a093eb6af",
   "metadata": {},
   "outputs": [
    {
     "name": "stdout",
     "output_type": "stream",
     "text": [
      "24636455\n",
      "30935\n",
      "{'outgroup1': 'TT', 'outgroup2': '.', 'DP1': '1', 'DP2': '.', 'REF': 'T'}\n"
     ]
    }
   ],
   "source": [
    "dico_genotypes={}\n",
    "#the file GENOTYPES_SRR7440094-5_CONCATENATED_chr1.txt is obtained from the script GENOTYPES_outgroup_concatenate.py\n",
    "with open(\"GENOTYPES_SRR7440094-5_CONCATENATED_chr1.txt\", \"r\") as gen:\n",
    "    for g in gen:\n",
    "        gen_split=g.split(\"\\t\")\n",
    "        position=gen_split[0]\n",
    "        if str(position) != \"position\":\n",
    "            dico_genotypes[position]={}\n",
    "            ref=gen_split[1]\n",
    "            o1=gen_split[2]\n",
    "            o2=gen_split[5]\n",
    "            dp1=gen_split[3]\n",
    "            dp2=gen_split[6]\n",
    "            dico_genotypes[position][\"outgroup1\"]=o1\n",
    "            dico_genotypes[position][\"outgroup2\"]=o2\n",
    "            dico_genotypes[position][\"DP1\"]=dp1\n",
    "            dico_genotypes[position][\"DP2\"]=dp2\n",
    "            dico_genotypes[position][\"REF\"]=ref\n",
    "\n",
    "\n",
    "print(len(dico_genotypes))"
   ]
  },
  {
   "cell_type": "markdown",
   "id": "4937ed21-d59b-4d6b-b005-f3637ff6c8ad",
   "metadata": {},
   "source": [
    "### Write the new VCF:"
   ]
  },
  {
   "cell_type": "code",
   "execution_count": 5,
   "id": "1e6d33a9-118a-4ad8-91ff-ce66171a1b43",
   "metadata": {},
   "outputs": [
    {
     "name": "stdout",
     "output_type": "stream",
     "text": [
      "4654641\n",
      "28963846\n"
     ]
    }
   ],
   "source": [
    "print(len(dico_positions_SNPs_chr1))\n",
    "print(len(dico_genotypes))"
   ]
  },
  {
   "cell_type": "code",
   "execution_count": 36,
   "id": "b2f864e9-3b7e-42b8-8bec-df0c64274ca0",
   "metadata": {},
   "outputs": [],
   "source": [
    "pos_problem=[]\n",
    "chromosome=\"chr1\"\n",
    "with open(\"vcf_chr1_Ped_outgroup.vcf\", \"w\") as vcf_to_generate:\n",
    "    for position in dico_positions_SNPs_from_173_samples: # {'allele_ref': 'T', 'alele_alt': 'C'}\n",
    "        if (str(position[0]) != \"p\"):\n",
    "            if str(position) in dico_genotypes: # {'outgroup1': '.', 'outgroup2': 'GG', 'DP1': '.', 'DP2': '1'}\n",
    "                REF=dico_genotypes[position][\"REF\"]\n",
    "                outgroup1=dico_genotypes[position][\"outgroup1\"] ##ex: AA\n",
    "                DP1=dico_genotypes[position][\"DP1\"]\n",
    "                outgroup2=dico_genotypes[position][\"outgroup2\"] ##ex: TT\n",
    "                DP2=dico_genotypes[position][\"DP2\"]\n",
    "                ref_allele_vcf_173=dico_positions_SNPs_from_173_samples[position][\"allele_ref\"]\n",
    "                alt_allele_vcf_173=dico_positions_SNPs_from_173_samples[position][\"alele_alt\"]\n",
    "                if str(REF)!=str(ref_allele_vcf_173):\n",
    "                    pos_problem.append(position)\n",
    "                ### OUTGROUP2 only:\n",
    "                if str(outgroup1)==\".\" and str(outgroup2)!=\".\": #outgroup1 missing data but not outgroup 2\n",
    "                    if int(DP2)>=2:\n",
    "                        allele1_outgroup2=outgroup2[0]\n",
    "                        allele2_outgroup2=outgroup2[1]\n",
    "                        # if outgroup homozygote genotype:\n",
    "                        ## REF: 0/0\n",
    "                        if str(allele1_outgroup2)==str(ref_allele_vcf_173) and str(allele2_outgroup2)==str(ref_allele_vcf_173):\n",
    "                            vcf_to_generate.write(str(chromosome)+\"\\t\"+str(position)+\"\\t.\\t\"+str(ref_allele_vcf_173)+\"\\t\"+str(alt_allele_vcf_173)+\"\\t1.0\\tPASS\\tAC=1;AF=0.0;AN=0;BaseQRankSum=0;DP=\"+str(DP2)+\";ExcessHet=0;FS=0;InbreedingCoeff=0;MLEAC=0;MLEAF=0;MQ=0;MQRankSum=0;QD=0;ReadPosRankSum=0;SOR=0\\tGT:AD:DP:GQ:PL\\t0/0:0,0:\"+str(DP2)+\":20:0,0,0\\n\")\n",
    "                        ## ALT: 1/1\n",
    "                        if str(allele1_outgroup2)==str(alt_allele_vcf_173) and str(allele2_outgroup2)==str(alt_allele_vcf_173):\n",
    "                            vcf_to_generate.write(str(chromosome)+\"\\t\"+str(position)+\"\\t.\\t\"+str(ref_allele_vcf_173)+\"\\t\"+str(alt_allele_vcf_173)+\"\\t1.0\\tPASS\\tAC=1;AF=0.0;AN=0;BaseQRankSum=0;DP=\"+str(DP2)+\";ExcessHet=0;FS=0;InbreedingCoeff=0;MLEAC=0;MLEAF=0;MQ=0;MQRankSum=0;QD=0;ReadPosRankSum=0;SOR=0\\tGT:AD:DP:GQ:PL\\t1/1:0,0:\"+str(DP2)+\":20:0,0,0\\n\")\n",
    "                        # if outgroup != REF or ALT or hetero => missing data\n",
    "                        if (str(allele1_outgroup2)!=str(allele2_outgroup2)) or (str(allele1_outgroup2)!=str(ref_allele_vcf_173) and str(allele2_outgroup2)!=str(ref_allele_vcf_173) and str(allele1_outgroup2)!=str(alt_allele_vcf_173) and str(allele2_outgroup2)!=str(alt_allele_vcf_173)):\n",
    "                            vcf_to_generate.write(str(chromosome)+\"\\t\"+str(position)+\"\\t.\\t\"+str(ref_allele_vcf_173)+\"\\t\"+str(alt_allele_vcf_173)+\"\\t1.0\\tPASS\\tAC=1;AF=0.0;AN=0;BaseQRankSum=0;DP=0;ExcessHet=0;FS=0;InbreedingCoeff=0;MLEAC=0;MLEAF=0;MQ=0;MQRankSum=0;QD=0;ReadPosRankSum=0;SOR=0\\tGT:AD:DP:GQ:PL\\t./.:0,0:0:0:0,0,0\\n\")\n",
    "                        # if hetero: => missing data\n",
    "                        #if str(allele1_outgroup2)!=str(allele2_outgroup2) and :\n",
    "                        #    vcf_to_generate.write(str(chromosome)+\"\\t\"+str(position)+\"\\t.\\t\"+str(ref_allele_vcf_173)+\"\\t\"+str(alt_allele_vcf_173)+\"\\t1.0\\tPASS\\tAC=1;AF=0.0;AN=0;BaseQRankSum=0;DP=0;ExcessHet=0;FS=0;InbreedingCoeff=0;MLEAC=0;MLEAF=0;MQ=0;MQRankSum=0;QD=0;ReadPosRankSum=0;SOR=0\\tGT:AD:DP:GQ:PL\\t./.:0,0:0:0:0,0,0\\n\") \n",
    "                    if  int(DP2)<2: # outgroup => missing data\n",
    "                            vcf_to_generate.write(str(chromosome)+\"\\t\"+str(position)+\"\\t.\\t\"+str(ref_allele_vcf_173)+\"\\t\"+str(alt_allele_vcf_173)+\"\\t1.0\\tPASS\\tAC=1;AF=0.0;AN=0;BaseQRankSum=0;DP=0;ExcessHet=0;FS=0;InbreedingCoeff=0;MLEAC=0;MLEAF=0;MQ=0;MQRankSum=0;QD=0;ReadPosRankSum=0;SOR=0\\tGT:AD:DP:GQ:PL\\t./.:0,0:0:0:0,0,0\\n\")                \n",
    "\n",
    "                ### OUTGROUP1 only:\n",
    "                if str(outgroup2)==\".\" and str(outgroup1)!=\".\":\n",
    "                    if int(DP1)>=2:\n",
    "                        allele1_outgroup1=outgroup1[0]\n",
    "                        allele2_outgroup1=outgroup1[1]    \n",
    "                        # if outgroup homozygote genotype:\n",
    "                        ## REF: 0/0\n",
    "                        if str(allele1_outgroup1)==str(ref_allele_vcf_173) and str(allele2_outgroup1)==str(ref_allele_vcf_173):\n",
    "                            vcf_to_generate.write(str(chromosome)+\"\\t\"+str(position)+\"\\t.\\t\"+str(ref_allele_vcf_173)+\"\\t\"+str(alt_allele_vcf_173)+\"\\t1.0\\tPASS\\tAC=1;AF=0.0;AN=0;BaseQRankSum=0;DP=\"+str(DP1)+\";ExcessHet=0;FS=0;InbreedingCoeff=0;MLEAC=0;MLEAF=0;MQ=0;MQRankSum=0;QD=0;ReadPosRankSum=0;SOR=0\\tGT:AD:DP:GQ:PL\\t0/0:0,0:\"+str(DP1)+\":20:0,0,0\\n\")\n",
    "                        ## ALT: 1/1\n",
    "                        if str(allele1_outgroup1)==str(alt_allele_vcf_173) and str(allele2_outgroup1)==str(alt_allele_vcf_173):\n",
    "                            vcf_to_generate.write(str(chromosome)+\"\\t\"+str(position)+\"\\t.\\t\"+str(ref_allele_vcf_173)+\"\\t\"+str(alt_allele_vcf_173)+\"\\t1.0\\tPASS\\tAC=1;AF=0.0;AN=0;BaseQRankSum=0;DP=\"+str(DP1)+\";ExcessHet=0;FS=0;InbreedingCoeff=0;MLEAC=0;MLEAF=0;MQ=0;MQRankSum=0;QD=0;ReadPosRankSum=0;SOR=0\\tGT:AD:DP:GQ:PL\\t1/1:0,0:\"+str(DP1)+\":20:0,0,0\\n\")\n",
    "                        # if outgroup != REF or ALT or hetero\n",
    "                        if (str(allele1_outgroup1)!=str(allele2_outgroup1)) or (str(allele1_outgroup1)!=str(ref_allele_vcf_173) and str(allele2_outgroup1)!=str(ref_allele_vcf_173) and str(allele1_outgroup1)!=str(alt_allele_vcf_173) and str(allele2_outgroup1)!=str(alt_allele_vcf_173)):\n",
    "                            vcf_to_generate.write(str(chromosome)+\"\\t\"+str(position)+\"\\t.\\t\"+str(ref_allele_vcf_173)+\"\\t\"+str(alt_allele_vcf_173)+\"\\t1.0\\tPASS\\tAC=1;AF=0.0;AN=0;BaseQRankSum=0;DP=0;ExcessHet=0;FS=0;InbreedingCoeff=0;MLEAC=0;MLEAF=0;MQ=0;MQRankSum=0;QD=0;ReadPosRankSum=0;SOR=0\\tGT:AD:DP:GQ:PL\\t./.:0,0:0:0:0,0,0\\n\")\n",
    "                        # if hetero:\n",
    "                        #if str(allele1_outgroup1)!=str(allele2_outgroup1):\n",
    "                        #    vcf_to_generate.write(str(chromosome)+\"\\t\"+str(position)+\"\\t.\\t\"+str(ref_allele_vcf_173)+\"\\t\"+str(alt_allele_vcf_173)+\"\\t1.0\\tPASS\\tAC=1;AF=0.0;AN=0;BaseQRankSum=0;DP=0;ExcessHet=0;FS=0;InbreedingCoeff=0;MLEAC=0;MLEAF=0;MQ=0;MQRankSum=0;QD=0;ReadPosRankSum=0;SOR=0\\tGT:AD:DP:GQ:PL\\t./.:0,0:0:0:0,0,0\\n\")                \n",
    "                    if int(DP1)<2:\n",
    "                            vcf_to_generate.write(str(chromosome)+\"\\t\"+str(position)+\"\\t.\\t\"+str(ref_allele_vcf_173)+\"\\t\"+str(alt_allele_vcf_173)+\"\\t1.0\\tPASS\\tAC=1;AF=0.0;AN=0;BaseQRankSum=0;DP=0;ExcessHet=0;FS=0;InbreedingCoeff=0;MLEAC=0;MLEAF=0;MQ=0;MQRankSum=0;QD=0;ReadPosRankSum=0;SOR=0\\tGT:AD:DP:GQ:PL\\t./.:0,0:0:0:0,0,0\\n\")                \n",
    "\n",
    "                ### TWO OUTGROUPS:            \n",
    "                if str(outgroup1)!=\".\" and str(outgroup2)!=\".\":                        \n",
    "                    # if the two outgroups are the same:\n",
    "                    if str(outgroup1)==str(outgroup2):\n",
    "                        DP_sum=int(DP1)+int(DP2)                            \n",
    "                        if int(DP_sum)>=2:\n",
    "                            allele1_outgroup=outgroup1[0]\n",
    "                            allele2_outgroup=outgroup1[1]                                \n",
    "                            # if outgroup homozygote genotype:\n",
    "                            ## REF: outgroup 0/0\n",
    "                            if (str(allele1_outgroup)==str(allele2_outgroup)) and (allele1_outgroup)==str(ref_allele_vcf_173) :\n",
    "                                vcf_to_generate.write(str(chromosome)+\"\\t\"+str(position)+\"\\t.\\t\"+str(ref_allele_vcf_173)+\"\\t\"+str(alt_allele_vcf_173)+\"\\t1.0\\tPASS\\tAC=1;AF=0.0;AN=0;BaseQRankSum=0;DP=\"+str(DP_sum)+\";ExcessHet=0;FS=0;InbreedingCoeff=0;MLEAC=0;MLEAF=0;MQ=0;MQRankSum=0;QD=0;ReadPosRankSum=0;SOR=0\\tGT:AD:DP:GQ:PL\\t0/0:0,0:\"+str(DP_sum)+\":0:0,0,0\\n\")                                                \n",
    "                            # if outgroup homozygote genotype:\n",
    "                            ## ALT: outgroup 1/1\n",
    "                            if (str(allele1_outgroup)==str(allele2_outgroup)) and (allele1_outgroup)==str(alt_allele_vcf_173) :\n",
    "                                vcf_to_generate.write(str(chromosome)+\"\\t\"+str(position)+\"\\t.\\t\"+str(ref_allele_vcf_173)+\"\\t\"+str(alt_allele_vcf_173)+\"\\t1.0\\tPASS\\tAC=1;AF=0.0;AN=0;BaseQRankSum=0;DP=\"+str(DP_sum)+\";ExcessHet=0;FS=0;InbreedingCoeff=0;MLEAC=0;MLEAF=0;MQ=0;MQRankSum=0;QD=0;ReadPosRankSum=0;SOR=0\\tGT:AD:DP:GQ:PL\\t1/1:0,0:\"+str(DP_sum)+\":0:0,0,0\\n\")                                                \n",
    "                            # if hetero:\n",
    "                            #if str(allele1_outgroup)!=str(allele2_outgroup):\n",
    "                            #    vcf_to_generate.write(str(chromosome)+\"\\t\"+str(position)+\"\\t.\\t\"+str(ref_allele_vcf_173)+\"\\t\"+str(alt_allele_vcf_173)+\"\\t1.0\\tPASS\\tAC=1;AF=0.0;AN=0;BaseQRankSum=0;DP=0;ExcessHet=0;FS=0;InbreedingCoeff=0;MLEAC=0;MLEAF=0;MQ=0;MQRankSum=0;QD=0;ReadPosRankSum=0;SOR=0\\tGT:AD:DP:GQ:PL\\t./.:0,0:0:0:0,0,0\\n\")                                           \n",
    "                            # if outgroup != REF or ALT or hetero => missing data\n",
    "                            if (str(allele1_outgroup)!=str(allele2_outgroup)) or ( (str(allele1_outgroup)==str(allele2_outgroup)) and str(allele1_outgroup)!=str(ref_allele_vcf_173) and str(allele1_outgroup)!=str(alt_allele_vcf_173) ):\n",
    "                                vcf_to_generate.write(str(chromosome)+\"\\t\"+str(position)+\"\\t.\\t\"+str(ref_allele_vcf_173)+\"\\t\"+str(alt_allele_vcf_173)+\"\\t1.0\\tPASS\\tAC=1;AF=0.0;AN=0;BaseQRankSum=0;DP=0;ExcessHet=0;FS=0;InbreedingCoeff=0;MLEAC=0;MLEAF=0;MQ=0;MQRankSum=0;QD=0;ReadPosRankSum=0;SOR=0\\tGT:AD:DP:GQ:PL\\t./.:0,0:0:0:0,0,0\\n\")\n",
    "                        if int(DP_sum)<2:\n",
    "                            vcf_to_generate.write(str(chromosome)+\"\\t\"+str(position)+\"\\t.\\t\"+str(ref_allele_vcf_173)+\"\\t\"+str(alt_allele_vcf_173)+\"\\t1.0\\tPASS\\tAC=1;AF=0.0;AN=0;BaseQRankSum=0;DP=0;ExcessHet=0;FS=0;InbreedingCoeff=0;MLEAC=0;MLEAF=0;MQ=0;MQRankSum=0;QD=0;ReadPosRankSum=0;SOR=0\\tGT:AD:DP:GQ:PL\\t./.:0,0:0:0:0,0,0\\n\")                                        \n",
    "                    # if the two outgroups are different:\n",
    "                    if str(outgroup1)!=str(outgroup2):\n",
    "                        vcf_to_generate.write(str(chromosome)+\"\\t\"+str(position)+\"\\t.\\t\"+str(ref_allele_vcf_173)+\"\\t\"+str(alt_allele_vcf_173)+\"\\t1.0\\tPASS\\tAC=1;AF=0.0;AN=0;BaseQRankSum=0;DP=0;ExcessHet=0;FS=0;InbreedingCoeff=0;MLEAC=0;MLEAF=0;MQ=0;MQRankSum=0;QD=0;ReadPosRankSum=0;SOR=0\\tGT:AD:DP:GQ:PL\\t./.:0,0:0:0:0,0,0\\n\")                \n",
    "            if str(position) not in dico_genotypes: # outgroup with missing data\n",
    "                ref_allele_vcf_173=dico_positions_SNPs_from_173_samples[position][\"allele_ref\"]\n",
    "                alt_allele_vcf_173=dico_positions_SNPs_from_173_samples[position][\"alele_alt\"]\n",
    "                vcf_to_generate.write(str(chromosome)+\"\\t\"+str(position)+\"\\t.\\t\"+str(ref_allele_vcf_173)+\"\\t\"+str(alt_allele_vcf_173)+\"\\t1.0\\tPASS\\tAC=1;AF=0.0;AN=0;BaseQRankSum=0;DP=0;ExcessHet=0;FS=0;InbreedingCoeff=0;MLEAC=0;MLEAF=0;MQ=0;MQRankSum=0;QD=0;ReadPosRankSum=0;SOR=0\\tGT:AD:DP:GQ:PL\\t./.:0,0:0:0:0,0,0\\n\")\n"
   ]
  }
 ],
 "metadata": {
  "kernelspec": {
   "display_name": "Python 3 (ipykernel)",
   "language": "python",
   "name": "python3"
  },
  "language_info": {
   "codemirror_mode": {
    "name": "ipython",
    "version": 3
   },
   "file_extension": ".py",
   "mimetype": "text/x-python",
   "name": "python",
   "nbconvert_exporter": "python",
   "pygments_lexer": "ipython3",
   "version": "3.8.10"
  }
 },
 "nbformat": 4,
 "nbformat_minor": 5
}
